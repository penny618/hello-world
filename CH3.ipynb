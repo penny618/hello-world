{
 "cells": [
  {
   "cell_type": "code",
   "execution_count": 2,
   "metadata": {
    "hide_input": false
   },
   "outputs": [],
   "source": [
    "import numpy as np\n",
    "import pandas as pd\n",
    "import math\n",
    "from matplotlib import pyplot as plt\n",
    "import statsmodels.formula.api as smf\n",
    "from statsmodels.stats.anova import anova_lm\n",
    "from scipy import stats"
   ]
  },
  {
   "cell_type": "markdown",
   "metadata": {},
   "source": [
    "# 案例介绍\n",
    "\n",
    "# 描述性分析"
   ]
  },
  {
   "cell_type": "code",
   "execution_count": 215,
   "metadata": {},
   "outputs": [
    {
     "data": {
      "text/html": [
       "<div>\n",
       "<style scoped>\n",
       "    .dataframe tbody tr th:only-of-type {\n",
       "        vertical-align: middle;\n",
       "    }\n",
       "\n",
       "    .dataframe tbody tr th {\n",
       "        vertical-align: top;\n",
       "    }\n",
       "\n",
       "    .dataframe thead th {\n",
       "        text-align: right;\n",
       "    }\n",
       "</style>\n",
       "<table border=\"1\" class=\"dataframe\">\n",
       "  <thead>\n",
       "    <tr style=\"text-align: right;\">\n",
       "      <th></th>\n",
       "      <th>title</th>\n",
       "      <th>gender</th>\n",
       "      <th>student</th>\n",
       "      <th>year</th>\n",
       "      <th>semester</th>\n",
       "      <th>size</th>\n",
       "      <th>score</th>\n",
       "    </tr>\n",
       "  </thead>\n",
       "  <tbody>\n",
       "    <tr>\n",
       "      <th>0</th>\n",
       "      <td>副教授</td>\n",
       "      <td>女</td>\n",
       "      <td>MBA</td>\n",
       "      <td>2002</td>\n",
       "      <td>秋季</td>\n",
       "      <td>114</td>\n",
       "      <td>3.175</td>\n",
       "    </tr>\n",
       "    <tr>\n",
       "      <th>1</th>\n",
       "      <td>副教授</td>\n",
       "      <td>女</td>\n",
       "      <td>MBA</td>\n",
       "      <td>2002</td>\n",
       "      <td>秋季</td>\n",
       "      <td>88</td>\n",
       "      <td>3.523</td>\n",
       "    </tr>\n",
       "    <tr>\n",
       "      <th>2</th>\n",
       "      <td>副教授</td>\n",
       "      <td>女</td>\n",
       "      <td>MBA</td>\n",
       "      <td>2003</td>\n",
       "      <td>秋季</td>\n",
       "      <td>83</td>\n",
       "      <td>4.458</td>\n",
       "    </tr>\n",
       "    <tr>\n",
       "      <th>3</th>\n",
       "      <td>副教授</td>\n",
       "      <td>女</td>\n",
       "      <td>MBA</td>\n",
       "      <td>2002</td>\n",
       "      <td>秋季</td>\n",
       "      <td>66</td>\n",
       "      <td>3.470</td>\n",
       "    </tr>\n",
       "    <tr>\n",
       "      <th>4</th>\n",
       "      <td>副教授</td>\n",
       "      <td>女</td>\n",
       "      <td>MBA</td>\n",
       "      <td>2003</td>\n",
       "      <td>秋季</td>\n",
       "      <td>46</td>\n",
       "      <td>4.630</td>\n",
       "    </tr>\n",
       "  </tbody>\n",
       "</table>\n",
       "</div>"
      ],
      "text/plain": [
       "  title gender student  year semester  size  score\n",
       "0   副教授      女     MBA  2002       秋季   114  3.175\n",
       "1   副教授      女     MBA  2002       秋季    88  3.523\n",
       "2   副教授      女     MBA  2003       秋季    83  4.458\n",
       "3   副教授      女     MBA  2002       秋季    66  3.470\n",
       "4   副教授      女     MBA  2003       秋季    46  4.630"
      ]
     },
     "execution_count": 215,
     "metadata": {},
     "output_type": "execute_result"
    }
   ],
   "source": [
    "a = pd.read_csv('teaching.csv', encoding = 'gb18030', dtype = {'year' : str})\n",
    "a.head()  #a.info()"
   ]
  },
  {
   "cell_type": "code",
   "execution_count": 216,
   "metadata": {},
   "outputs": [],
   "source": [
    "#a['titles'] = a.title.apply(lambda x: 'AP' if x=='副教授' else( 'FP' if x=='正教授' else 'ASP'))\n",
    "a['genders']=a.gender.apply(lambda x: 1 if x=='女' else 0)"
   ]
  },
  {
   "cell_type": "code",
   "execution_count": 217,
   "metadata": {},
   "outputs": [
    {
     "data": {
      "text/plain": [
       "Text(0, 0.5, 'score')"
      ]
     },
     "execution_count": 217,
     "metadata": {},
     "output_type": "execute_result"
    },
    {
     "data": {
      "image/png": "[encoded data removed]",
      "text/plain": [
       "<Figure size 432x288 with 1 Axes>"
      ]
     },
     "metadata": {
      "needs_background": "light"
     },
     "output_type": "display_data"
    }
   ],
   "source": [
    "plt.scatter(a['size'],a['score'], s=12, facecolors='none', edgecolors='blue')\n",
    "plt.xlabel('size')\n",
    "plt.ylabel('score')"
   ]
  },
  {
   "cell_type": "code",
   "execution_count": 218,
   "metadata": {
    "scrolled": true
   },
   "outputs": [
    {
     "data": {
      "text/plain": [
       "<matplotlib.axes._subplots.AxesSubplot at 0x911950b160>"
      ]
     },
     "execution_count": 218,
     "metadata": {},
     "output_type": "execute_result"
    },
    {
     "data": {
      "image/png": "[encoded data removed]",
      "text/plain": [
       "<Figure size 432x288 with 1 Axes>"
      ]
     },
     "metadata": {
      "needs_background": "light"
     },
     "output_type": "display_data"
    }
   ],
   "source": [
    "a['scale']=np.ceil(a['size']/20)\n",
    "a.boxplot(column='score', by='scale',grid=False)"
   ]
  },
  {
   "cell_type": "code",
   "execution_count": 225,
   "metadata": {},
   "outputs": [
    {
     "data": {
      "text/plain": [
       "2.0    112\n",
       "1.0     98\n",
       "3.0     59\n",
       "4.0     40\n",
       "5.0     17\n",
       "7.0      7\n",
       "6.0      7\n",
       "Name: scale, dtype: int64"
      ]
     },
     "execution_count": 225,
     "metadata": {},
     "output_type": "execute_result"
    }
   ],
   "source": [
    "a['scale'].value_counts()"
   ]
  },
  {
   "cell_type": "code",
   "execution_count": 203,
   "metadata": {},
   "outputs": [],
   "source": [
    "del a['scale']\n",
    "a['group'] = 1 * (a['size']<=20)"
   ]
  },
  {
   "cell_type": "code",
   "execution_count": 204,
   "metadata": {
    "scrolled": true
   },
   "outputs": [
    {
     "data": {
      "text/plain": [
       "<matplotlib.axes._subplots.AxesSubplot at 0x91150a4f60>"
      ]
     },
     "execution_count": 204,
     "metadata": {},
     "output_type": "execute_result"
    },
    {
     "data": {
      "image/png": "[encoded data removed]",
      "text/plain": [
       "<Figure size 864x864 with 6 Axes>"
      ]
     },
     "metadata": {
      "needs_background": "light"
     },
     "output_type": "display_data"
    }
   ],
   "source": [
    "f, axes = plt.subplots(3, 2, figsize=(12, 12))   \n",
    "a.boxplot(column='score', by='title',grid=False,ax=axes[0,0])\n",
    "a.boxplot(column='score', by='gender',grid=False,ax=axes[0,1])\n",
    "a.boxplot(column='score', by='student',grid=False,ax=axes[1,0])\n",
    "a.boxplot(column='score', by='year',grid=False,ax=axes[1,1])\n",
    "a.boxplot(column='score', by='semester',grid=False,ax=axes[2,0])\n",
    "a.boxplot(column='score', by='group',grid=False,ax=axes[2,1])"
   ]
  },
  {
   "cell_type": "markdown",
   "metadata": {},
   "source": [
    "# 单因素可加模型"
   ]
  },
  {
   "cell_type": "markdown",
   "metadata": {},
   "source": [
    "$ 教学评估成绩 = (\\alpha_0 + \\alpha_1) + \\beta \\times 学生人数 + \\epsilon, if group=1 $  \n",
    "$ 教学评估成绩 = \\alpha_0 + \\beta \\times 学生人数 + \\epsilon, if group=0 $"
   ]
  },
  {
   "cell_type": "code",
   "execution_count": 205,
   "metadata": {},
   "outputs": [
    {
     "data": {
      "text/html": [
       "<table class=\"simpletable\">\n",
       "<tr>\n",
       "        <td>Model:</td>               <td>OLS</td>         <td>Adj. R-squared:</td>     <td>0.033</td> \n",
       "</tr>\n",
       "<tr>\n",
       "  <td>Dependent Variable:</td>       <td>score</td>             <td>AIC:</td>         <td>452.6202</td>\n",
       "</tr>\n",
       "<tr>\n",
       "         <td>Date:</td>        <td>2019-04-03 17:02</td>        <td>BIC:</td>         <td>464.1071</td>\n",
       "</tr>\n",
       "<tr>\n",
       "   <td>No. Observations:</td>         <td>340</td>         <td>Log-Likelihood:</td>    <td>-223.31</td>\n",
       "</tr>\n",
       "<tr>\n",
       "       <td>Df Model:</td>              <td>2</td>           <td>F-statistic:</td>       <td>6.742</td> \n",
       "</tr>\n",
       "<tr>\n",
       "     <td>Df Residuals:</td>           <td>337</td>       <td>Prob (F-statistic):</td>  <td>0.00135</td>\n",
       "</tr>\n",
       "<tr>\n",
       "      <td>R-squared:</td>            <td>0.038</td>            <td>Scale:</td>         <td>0.21971</td>\n",
       "</tr>\n",
       "</table>\n",
       "<table class=\"simpletable\">\n",
       "<tr>\n",
       "      <td></td>       <th>Coef.</th>  <th>Std.Err.</th>    <th>t</th>     <th>P>|t|</th> <th>[0.025</th>  <th>0.975]</th>\n",
       "</tr>\n",
       "<tr>\n",
       "  <th>Intercept</th> <td>4.2367</td>   <td>0.0667</td>  <td>63.5302</td> <td>0.0000</td> <td>4.1056</td>  <td>4.3679</td>\n",
       "</tr>\n",
       "<tr>\n",
       "  <th>group</th>     <td>0.1850</td>   <td>0.0714</td>  <td>2.5904</td>  <td>0.0100</td> <td>0.0445</td>  <td>0.3256</td>\n",
       "</tr>\n",
       "<tr>\n",
       "  <th>size</th>      <td>-0.0005</td>  <td>0.0012</td>  <td>-0.4422</td> <td>0.6586</td> <td>-0.0028</td> <td>0.0018</td>\n",
       "</tr>\n",
       "</table>\n",
       "<table class=\"simpletable\">\n",
       "<tr>\n",
       "     <td>Omnibus:</td>    <td>49.090</td>  <td>Durbin-Watson:</td>    <td>1.924</td>\n",
       "</tr>\n",
       "<tr>\n",
       "  <td>Prob(Omnibus):</td>  <td>0.000</td> <td>Jarque-Bera (JB):</td> <td>66.140</td>\n",
       "</tr>\n",
       "<tr>\n",
       "       <td>Skew:</td>     <td>-1.022</td>     <td>Prob(JB):</td>      <td>0.000</td>\n",
       "</tr>\n",
       "<tr>\n",
       "     <td>Kurtosis:</td>    <td>3.703</td>  <td>Condition No.:</td>     <td>174</td> \n",
       "</tr>\n",
       "</table>"
      ],
      "text/plain": [
       "<class 'statsmodels.iolib.summary2.Summary'>\n",
       "\"\"\"\n",
       "                 Results: Ordinary least squares\n",
       "=================================================================\n",
       "Model:              OLS              Adj. R-squared:     0.033   \n",
       "Dependent Variable: score            AIC:                452.6202\n",
       "Date:               2019-04-03 17:02 BIC:                464.1071\n",
       "No. Observations:   340              Log-Likelihood:     -223.31 \n",
       "Df Model:           2                F-statistic:        6.742   \n",
       "Df Residuals:       337              Prob (F-statistic): 0.00135 \n",
       "R-squared:          0.038            Scale:              0.21971 \n",
       "------------------------------------------------------------------\n",
       "                Coef.   Std.Err.     t     P>|t|    [0.025  0.975]\n",
       "------------------------------------------------------------------\n",
       "Intercept       4.2367    0.0667  63.5302  0.0000   4.1056  4.3679\n",
       "group           0.1850    0.0714   2.5904  0.0100   0.0445  0.3256\n",
       "size           -0.0005    0.0012  -0.4422  0.6586  -0.0028  0.0018\n",
       "-----------------------------------------------------------------\n",
       "Omnibus:              49.090       Durbin-Watson:          1.924 \n",
       "Prob(Omnibus):        0.000        Jarque-Bera (JB):       66.140\n",
       "Skew:                 -1.022       Prob(JB):               0.000 \n",
       "Kurtosis:             3.703        Condition No.:          174   \n",
       "=================================================================\n",
       "\n",
       "\"\"\""
      ]
     },
     "execution_count": 205,
     "metadata": {},
     "output_type": "execute_result"
    }
   ],
   "source": [
    "lm1 = smf.ols('score ~ group + size', data=a).fit()\n",
    "lm1.summary2()"
   ]
  },
  {
   "cell_type": "code",
   "execution_count": 206,
   "metadata": {},
   "outputs": [
    {
     "data": {
      "text/plain": [
       "Intercept    4.236745\n",
       "group        0.185043\n",
       "size        -0.000519\n",
       "dtype: float64"
      ]
     },
     "execution_count": 206,
     "metadata": {},
     "output_type": "execute_result"
    }
   ],
   "source": [
    "lm1.params"
   ]
  },
  {
   "cell_type": "markdown",
   "metadata": {},
   "source": [
    "$ 教学评估成绩 = (4.237 + 0.185) - 0.001 \\times 学生人数 + \\epsilon, if group=1 $  \n",
    "$ 教学评估成绩 = 4.237 - 0.001 \\times 学生人数 + \\epsilon, if group=0 $"
   ]
  },
  {
   "cell_type": "code",
   "execution_count": 207,
   "metadata": {},
   "outputs": [
    {
     "data": {
      "text/plain": [
       "<matplotlib.collections.PathCollection at 0x91152127f0>"
      ]
     },
     "execution_count": 207,
     "metadata": {},
     "output_type": "execute_result"
    },
    {
     "data": {
      "image/png": "[encoded data removed]",
      "text/plain": [
       "<Figure size 432x288 with 1 Axes>"
      ]
     },
     "metadata": {
      "needs_background": "light"
     },
     "output_type": "display_data"
    }
   ],
   "source": [
    "plt.scatter('size','score', data=a, s=12, facecolors='none', edgecolors='blue')\n",
    "plt.xlabel('size')\n",
    "plt.ylabel('score')\n",
    "plt.scatter(a['size'], lm1.fittedvalues, s=12, facecolors='none', edgecolors='red')"
   ]
  },
  {
   "cell_type": "markdown",
   "metadata": {},
   "source": [
    "从图中可以看到两条平行的直线，它们分别为不同班级规模的回归直线。显然这样的拟合效果并不理想。特别是对于小规模班级，教学评估成绩有一个很明显的下降趋势，但是我们拟合的回归直线却近乎于一条水平的直线。"
   ]
  },
  {
   "cell_type": "markdown",
   "metadata": {},
   "source": [
    "# 单因素交互作用模型"
   ]
  },
  {
   "cell_type": "markdown",
   "metadata": {},
   "source": [
    "$ 教学评估成绩 = (\\alpha_0 + \\alpha_1) + (\\beta_0 + \\beta_1) \\times 学生人数 + \\epsilon, if group=1 $  \n",
    "$ 教学评估成绩 = \\alpha_0 + \\beta_0 \\times 学生人数 + \\epsilon, if group=0 $"
   ]
  },
  {
   "cell_type": "code",
   "execution_count": 208,
   "metadata": {},
   "outputs": [
    {
     "data": {
      "text/html": [
       "<div>\n",
       "<style scoped>\n",
       "    .dataframe tbody tr th:only-of-type {\n",
       "        vertical-align: middle;\n",
       "    }\n",
       "\n",
       "    .dataframe tbody tr th {\n",
       "        vertical-align: top;\n",
       "    }\n",
       "\n",
       "    .dataframe thead th {\n",
       "        text-align: right;\n",
       "    }\n",
       "</style>\n",
       "<table border=\"1\" class=\"dataframe\">\n",
       "  <thead>\n",
       "    <tr style=\"text-align: right;\">\n",
       "      <th></th>\n",
       "      <th>sum_sq</th>\n",
       "      <th>df</th>\n",
       "      <th>F</th>\n",
       "      <th>PR(&gt;F)</th>\n",
       "    </tr>\n",
       "  </thead>\n",
       "  <tbody>\n",
       "    <tr>\n",
       "      <th>Intercept</th>\n",
       "      <td>870.978185</td>\n",
       "      <td>1.0</td>\n",
       "      <td>4083.196145</td>\n",
       "      <td>4.600881e-190</td>\n",
       "    </tr>\n",
       "    <tr>\n",
       "      <th>group</th>\n",
       "      <td>3.639469</td>\n",
       "      <td>1.0</td>\n",
       "      <td>17.062042</td>\n",
       "      <td>4.570737e-05</td>\n",
       "    </tr>\n",
       "    <tr>\n",
       "      <th>size</th>\n",
       "      <td>0.002311</td>\n",
       "      <td>1.0</td>\n",
       "      <td>0.010834</td>\n",
       "      <td>9.171621e-01</td>\n",
       "    </tr>\n",
       "    <tr>\n",
       "      <th>group:size</th>\n",
       "      <td>2.372375</td>\n",
       "      <td>1.0</td>\n",
       "      <td>11.121829</td>\n",
       "      <td>9.484975e-04</td>\n",
       "    </tr>\n",
       "    <tr>\n",
       "      <th>Residual</th>\n",
       "      <td>71.671470</td>\n",
       "      <td>336.0</td>\n",
       "      <td>NaN</td>\n",
       "      <td>NaN</td>\n",
       "    </tr>\n",
       "  </tbody>\n",
       "</table>\n",
       "</div>"
      ],
      "text/plain": [
       "                sum_sq     df            F         PR(>F)\n",
       "Intercept   870.978185    1.0  4083.196145  4.600881e-190\n",
       "group         3.639469    1.0    17.062042   4.570737e-05\n",
       "size          0.002311    1.0     0.010834   9.171621e-01\n",
       "group:size    2.372375    1.0    11.121829   9.484975e-04\n",
       "Residual     71.671470  336.0          NaN            NaN"
      ]
     },
     "execution_count": 208,
     "metadata": {},
     "output_type": "execute_result"
    }
   ],
   "source": [
    "lm2 = smf.ols('score ~ group * size', data=a).fit()\n",
    "anova_lm(lm2, typ=\"III\")"
   ]
  },
  {
   "cell_type": "markdown",
   "metadata": {},
   "source": [
    "从中可以看到，班级规模（group）的主效应高度显著。可见**班级规模**这一因素的重要性。 \n",
    "\n",
    "**学生人数（size）的P值很大，这说明学生人数不重要吗？答案是否定的。**  \n",
    "班级规模（group）和学生人数（size）的交互作用的P值很小，在0.001的水平下高度显著。  \n",
    "只要该交互作用显著，或者学生人数（size）的主效应显著，我们就可以认为学生人数（size）这个因素是重要的。"
   ]
  },
  {
   "cell_type": "code",
   "execution_count": 209,
   "metadata": {},
   "outputs": [
    {
     "data": {
      "text/html": [
       "<table class=\"simpletable\">\n",
       "<tr>\n",
       "        <td>Model:</td>               <td>OLS</td>         <td>Adj. R-squared:</td>     <td>0.061</td> \n",
       "</tr>\n",
       "<tr>\n",
       "  <td>Dependent Variable:</td>       <td>score</td>             <td>AIC:</td>         <td>443.5482</td>\n",
       "</tr>\n",
       "<tr>\n",
       "         <td>Date:</td>        <td>2019-04-03 17:02</td>        <td>BIC:</td>         <td>458.8640</td>\n",
       "</tr>\n",
       "<tr>\n",
       "   <td>No. Observations:</td>         <td>340</td>         <td>Log-Likelihood:</td>    <td>-217.77</td>\n",
       "</tr>\n",
       "<tr>\n",
       "       <td>Df Model:</td>              <td>3</td>           <td>F-statistic:</td>       <td>8.337</td> \n",
       "</tr>\n",
       "<tr>\n",
       "     <td>Df Residuals:</td>           <td>336</td>       <td>Prob (F-statistic):</td> <td>2.31e-05</td>\n",
       "</tr>\n",
       "<tr>\n",
       "      <td>R-squared:</td>            <td>0.069</td>            <td>Scale:</td>         <td>0.21331</td>\n",
       "</tr>\n",
       "</table>\n",
       "<table class=\"simpletable\">\n",
       "<tr>\n",
       "       <td></td>       <th>Coef.</th>  <th>Std.Err.</th>    <th>t</th>     <th>P>|t|</th> <th>[0.025</th>  <th>0.975]</th> \n",
       "</tr>\n",
       "<tr>\n",
       "  <th>Intercept</th>  <td>4.2166</td>   <td>0.0660</td>  <td>63.8999</td> <td>0.0000</td> <td>4.0868</td>  <td>4.3464</td> \n",
       "</tr>\n",
       "<tr>\n",
       "  <th>group</th>      <td>0.6924</td>   <td>0.1676</td>  <td>4.1306</td>  <td>0.0000</td> <td>0.3627</td>  <td>1.0221</td> \n",
       "</tr>\n",
       "<tr>\n",
       "  <th>size</th>       <td>-0.0001</td>  <td>0.0012</td>  <td>-0.1041</td> <td>0.9172</td> <td>-0.0024</td> <td>0.0022</td> \n",
       "</tr>\n",
       "<tr>\n",
       "  <th>group:size</th> <td>-0.0377</td>  <td>0.0113</td>  <td>-3.3349</td> <td>0.0009</td> <td>-0.0600</td> <td>-0.0155</td>\n",
       "</tr>\n",
       "</table>\n",
       "<table class=\"simpletable\">\n",
       "<tr>\n",
       "     <td>Omnibus:</td>    <td>47.300</td>  <td>Durbin-Watson:</td>    <td>1.992</td>\n",
       "</tr>\n",
       "<tr>\n",
       "  <td>Prob(Omnibus):</td>  <td>0.000</td> <td>Jarque-Bera (JB):</td> <td>63.019</td>\n",
       "</tr>\n",
       "<tr>\n",
       "       <td>Skew:</td>     <td>-0.991</td>     <td>Prob(JB):</td>      <td>0.000</td>\n",
       "</tr>\n",
       "<tr>\n",
       "     <td>Kurtosis:</td>    <td>3.719</td>  <td>Condition No.:</td>     <td>330</td> \n",
       "</tr>\n",
       "</table>"
      ],
      "text/plain": [
       "<class 'statsmodels.iolib.summary2.Summary'>\n",
       "\"\"\"\n",
       "                 Results: Ordinary least squares\n",
       "=================================================================\n",
       "Model:              OLS              Adj. R-squared:     0.061   \n",
       "Dependent Variable: score            AIC:                443.5482\n",
       "Date:               2019-04-03 17:02 BIC:                458.8640\n",
       "No. Observations:   340              Log-Likelihood:     -217.77 \n",
       "Df Model:           3                F-statistic:        8.337   \n",
       "Df Residuals:       336              Prob (F-statistic): 2.31e-05\n",
       "R-squared:          0.069            Scale:              0.21331 \n",
       "------------------------------------------------------------------\n",
       "               Coef.   Std.Err.     t     P>|t|    [0.025   0.975]\n",
       "------------------------------------------------------------------\n",
       "Intercept      4.2166    0.0660  63.8999  0.0000   4.0868   4.3464\n",
       "group          0.6924    0.1676   4.1306  0.0000   0.3627   1.0221\n",
       "size          -0.0001    0.0012  -0.1041  0.9172  -0.0024   0.0022\n",
       "group:size    -0.0377    0.0113  -3.3349  0.0009  -0.0600  -0.0155\n",
       "-----------------------------------------------------------------\n",
       "Omnibus:              47.300       Durbin-Watson:          1.992 \n",
       "Prob(Omnibus):        0.000        Jarque-Bera (JB):       63.019\n",
       "Skew:                 -0.991       Prob(JB):               0.000 \n",
       "Kurtosis:             3.719        Condition No.:          330   \n",
       "=================================================================\n",
       "\n",
       "\"\"\""
      ]
     },
     "execution_count": 209,
     "metadata": {},
     "output_type": "execute_result"
    }
   ],
   "source": [
    "lm2.summary2()"
   ]
  },
  {
   "cell_type": "markdown",
   "metadata": {},
   "source": [
    "- **group=0, 学生人数超过20人的班级**  \n",
    "  \n",
    "  $ 教学评估成绩 = 4.2166 - 0.0001 \\times 学生人数 + \\epsilon $ \n",
    "  \n",
    "  由于学生人数（size）的主效应估计量（-0.0001）太小，而且不显著（P值=0.917），因此对大规模班级（group=0）得出以下结论：\n",
    "    1. 平均教学评估成绩约为4.2166；\n",
    "    2. 学生人数的变化对教学评估成绩影响甚微。\n",
    "   \n",
    "\n",
    "- **group=1, 学生人数不超过20人的班级**  \n",
    "\n",
    "  $$ \\begin{eqnarray*}\n",
    "  教学评估成绩 & = & (4.2166 + 0.6924) - (0.0001 + 0.0377) \\times 学生人数 + \\epsilon\\\\  \n",
    "   & = & 4.9090 - 0.0378 \\times 学生人数 + \\epsilon \\end{eqnarray*}$$\n",
    "  \n",
    "  \n",
    "  由于学生人数（size）的主效应估计量（-0.0001）太小，而且不显著（P值=0.917），因此对小规模班级（group=1）得出以下结论：\n",
    "    1. 如果一个教员教授一门有0个学生的课程（当然这是不可能的），那么他的教学评估成绩可以高达4.909；\n",
    "    2. 随着学生人数的增加，其教学评估成绩以0.0378分/人的速度下降；\n",
    "    3. 对于小规模班级（group=1），学生人数（size）的影响是很显著的。"
   ]
  },
  {
   "cell_type": "code",
   "execution_count": 210,
   "metadata": {},
   "outputs": [
    {
     "data": {
      "text/plain": [
       "<matplotlib.collections.PathCollection at 0x9115254a90>"
      ]
     },
     "execution_count": 210,
     "metadata": {},
     "output_type": "execute_result"
    },
    {
     "data": {
      "image/png": "[encoded data removed]",
      "text/plain": [
       "<Figure size 432x288 with 1 Axes>"
      ]
     },
     "metadata": {
      "needs_background": "light"
     },
     "output_type": "display_data"
    }
   ],
   "source": [
    "plt.scatter('size','score', data=a, s=12, facecolors='none', edgecolors='blue')\n",
    "plt.xlabel('size')\n",
    "plt.ylabel('score')\n",
    "plt.scatter(a['size'], lm2.fittedvalues, s=12, facecolors='none', edgecolors='red')"
   ]
  },
  {
   "cell_type": "markdown",
   "metadata": {},
   "source": [
    "从图中可以清楚看出，以学生人数20为届，我们拟合了两条不同的回归直线。  \n",
    "其中，学生人数少于20的回归直线截距很高且下降迅速，  \n",
    "   而学生人数大于20的回归直线基本保持水平。"
   ]
  },
  {
   "cell_type": "markdown",
   "metadata": {},
   "source": [
    "# 多因素协方差分析"
   ]
  },
  {
   "cell_type": "markdown",
   "metadata": {},
   "source": [
    "考虑如下统计模型：  \n",
    "$ 教学评估成绩 = 教员职称 + 教员性别 + 学生类别 + 年份 + 学期 + 班级规模 \\times 学生人数 + \\epsilon $"
   ]
  },
  {
   "cell_type": "code",
   "execution_count": 211,
   "metadata": {},
   "outputs": [
    {
     "data": {
      "text/html": [
       "<div>\n",
       "<style scoped>\n",
       "    .dataframe tbody tr th:only-of-type {\n",
       "        vertical-align: middle;\n",
       "    }\n",
       "\n",
       "    .dataframe tbody tr th {\n",
       "        vertical-align: top;\n",
       "    }\n",
       "\n",
       "    .dataframe thead th {\n",
       "        text-align: right;\n",
       "    }\n",
       "</style>\n",
       "<table border=\"1\" class=\"dataframe\">\n",
       "  <thead>\n",
       "    <tr style=\"text-align: right;\">\n",
       "      <th></th>\n",
       "      <th>sum_sq</th>\n",
       "      <th>df</th>\n",
       "      <th>F</th>\n",
       "      <th>PR(&gt;F)</th>\n",
       "    </tr>\n",
       "  </thead>\n",
       "  <tbody>\n",
       "    <tr>\n",
       "      <th>Intercept</th>\n",
       "      <td>252.177135</td>\n",
       "      <td>1.0</td>\n",
       "      <td>1351.760723</td>\n",
       "      <td>2.255591e-118</td>\n",
       "    </tr>\n",
       "    <tr>\n",
       "      <th>title</th>\n",
       "      <td>1.938447</td>\n",
       "      <td>2.0</td>\n",
       "      <td>5.195388</td>\n",
       "      <td>6.007221e-03</td>\n",
       "    </tr>\n",
       "    <tr>\n",
       "      <th>student</th>\n",
       "      <td>3.242909</td>\n",
       "      <td>2.0</td>\n",
       "      <td>8.691582</td>\n",
       "      <td>2.098551e-04</td>\n",
       "    </tr>\n",
       "    <tr>\n",
       "      <th>year</th>\n",
       "      <td>3.511289</td>\n",
       "      <td>2.0</td>\n",
       "      <td>9.410889</td>\n",
       "      <td>1.061371e-04</td>\n",
       "    </tr>\n",
       "    <tr>\n",
       "      <th>semester</th>\n",
       "      <td>0.011929</td>\n",
       "      <td>1.0</td>\n",
       "      <td>0.063945</td>\n",
       "      <td>8.005250e-01</td>\n",
       "    </tr>\n",
       "    <tr>\n",
       "      <th>genders</th>\n",
       "      <td>0.047006</td>\n",
       "      <td>1.0</td>\n",
       "      <td>0.251971</td>\n",
       "      <td>6.160271e-01</td>\n",
       "    </tr>\n",
       "    <tr>\n",
       "      <th>group</th>\n",
       "      <td>2.604529</td>\n",
       "      <td>1.0</td>\n",
       "      <td>13.961217</td>\n",
       "      <td>2.200647e-04</td>\n",
       "    </tr>\n",
       "    <tr>\n",
       "      <th>size</th>\n",
       "      <td>0.105781</td>\n",
       "      <td>1.0</td>\n",
       "      <td>0.567024</td>\n",
       "      <td>4.519841e-01</td>\n",
       "    </tr>\n",
       "    <tr>\n",
       "      <th>group:size</th>\n",
       "      <td>2.010103</td>\n",
       "      <td>1.0</td>\n",
       "      <td>10.774881</td>\n",
       "      <td>1.139731e-03</td>\n",
       "    </tr>\n",
       "    <tr>\n",
       "      <th>Residual</th>\n",
       "      <td>61.189898</td>\n",
       "      <td>328.0</td>\n",
       "      <td>NaN</td>\n",
       "      <td>NaN</td>\n",
       "    </tr>\n",
       "  </tbody>\n",
       "</table>\n",
       "</div>"
      ],
      "text/plain": [
       "                sum_sq     df            F         PR(>F)\n",
       "Intercept   252.177135    1.0  1351.760723  2.255591e-118\n",
       "title         1.938447    2.0     5.195388   6.007221e-03\n",
       "student       3.242909    2.0     8.691582   2.098551e-04\n",
       "year          3.511289    2.0     9.410889   1.061371e-04\n",
       "semester      0.011929    1.0     0.063945   8.005250e-01\n",
       "genders       0.047006    1.0     0.251971   6.160271e-01\n",
       "group         2.604529    1.0    13.961217   2.200647e-04\n",
       "size          0.105781    1.0     0.567024   4.519841e-01\n",
       "group:size    2.010103    1.0    10.774881   1.139731e-03\n",
       "Residual     61.189898  328.0          NaN            NaN"
      ]
     },
     "execution_count": 211,
     "metadata": {},
     "output_type": "execute_result"
    }
   ],
   "source": [
    "lm31 = smf.ols('score ~ title+genders+student+year+semester+group * size', data=a).fit()\n",
    "anova_lm(lm31, typ=\"III\")"
   ]
  },
  {
   "cell_type": "code",
   "execution_count": 180,
   "metadata": {},
   "outputs": [
    {
     "data": {
      "text/html": [
       "<table class=\"simpletable\">\n",
       "<tr>\n",
       "        <td>Model:</td>               <td>OLS</td>         <td>Adj. R-squared:</td>     <td>0.179</td> \n",
       "</tr>\n",
       "<tr>\n",
       "  <td>Dependent Variable:</td>       <td>score</td>             <td>AIC:</td>         <td>405.7906</td>\n",
       "</tr>\n",
       "<tr>\n",
       "         <td>Date:</td>        <td>2019-04-03 16:53</td>        <td>BIC:</td>         <td>451.7380</td>\n",
       "</tr>\n",
       "<tr>\n",
       "   <td>No. Observations:</td>         <td>340</td>         <td>Log-Likelihood:</td>    <td>-190.90</td>\n",
       "</tr>\n",
       "<tr>\n",
       "       <td>Df Model:</td>             <td>11</td>           <td>F-statistic:</td>       <td>7.707</td> \n",
       "</tr>\n",
       "<tr>\n",
       "     <td>Df Residuals:</td>           <td>328</td>       <td>Prob (F-statistic):</td> <td>7.23e-12</td>\n",
       "</tr>\n",
       "<tr>\n",
       "      <td>R-squared:</td>            <td>0.205</td>            <td>Scale:</td>         <td>0.18655</td>\n",
       "</tr>\n",
       "</table>\n",
       "<table class=\"simpletable\">\n",
       "<tr>\n",
       "         <td></td>         <th>Coef.</th>  <th>Std.Err.</th>    <th>t</th>     <th>P>|t|</th> <th>[0.025</th>  <th>0.975]</th> \n",
       "</tr>\n",
       "<tr>\n",
       "  <th>Intercept</th>      <td>3.9255</td>   <td>0.1068</td>  <td>36.7663</td> <td>0.0000</td> <td>3.7155</td>  <td>4.1355</td> \n",
       "</tr>\n",
       "<tr>\n",
       "  <th>title[T.助理教授]</th>  <td>-0.1006</td>  <td>0.0703</td>  <td>-1.4317</td> <td>0.1532</td> <td>-0.2388</td> <td>0.0376</td> \n",
       "</tr>\n",
       "<tr>\n",
       "  <th>title[T.正教授]</th>   <td>0.1637</td>   <td>0.0696</td>  <td>2.3543</td>  <td>0.0191</td> <td>0.0269</td>  <td>0.3006</td> \n",
       "</tr>\n",
       "<tr>\n",
       "  <th>student[T.本科生]</th> <td>0.0945</td>   <td>0.0673</td>  <td>1.4027</td>  <td>0.1616</td> <td>-0.0380</td> <td>0.2269</td> \n",
       "</tr>\n",
       "<tr>\n",
       "  <th>student[T.研究生]</th> <td>0.2429</td>   <td>0.0583</td>  <td>4.1692</td>  <td>0.0000</td> <td>0.1283</td>  <td>0.3575</td> \n",
       "</tr>\n",
       "<tr>\n",
       "  <th>year[T.2003]</th>   <td>0.1446</td>   <td>0.0594</td>  <td>2.4368</td>  <td>0.0153</td> <td>0.0279</td>  <td>0.2614</td> \n",
       "</tr>\n",
       "<tr>\n",
       "  <th>year[T.2004]</th>   <td>0.2404</td>   <td>0.0569</td>  <td>4.2218</td>  <td>0.0000</td> <td>0.1284</td>  <td>0.3524</td> \n",
       "</tr>\n",
       "<tr>\n",
       "  <th>semester[T.秋季]</th> <td>-0.0214</td>  <td>0.0845</td>  <td>-0.2529</td> <td>0.8005</td> <td>-0.1877</td> <td>0.1449</td> \n",
       "</tr>\n",
       "<tr>\n",
       "  <th>sex</th>            <td>0.0334</td>   <td>0.0665</td>  <td>0.5020</td>  <td>0.6160</td> <td>-0.0974</td> <td>0.1641</td> \n",
       "</tr>\n",
       "<tr>\n",
       "  <th>group</th>          <td>0.6018</td>   <td>0.1611</td>  <td>3.7365</td>  <td>0.0002</td> <td>0.2850</td>  <td>0.9187</td> \n",
       "</tr>\n",
       "<tr>\n",
       "  <th>size</th>           <td>0.0009</td>   <td>0.0012</td>  <td>0.7530</td>  <td>0.4520</td> <td>-0.0015</td> <td>0.0033</td> \n",
       "</tr>\n",
       "<tr>\n",
       "  <th>group:size</th>     <td>-0.0351</td>  <td>0.0107</td>  <td>-3.2825</td> <td>0.0011</td> <td>-0.0562</td> <td>-0.0141</td>\n",
       "</tr>\n",
       "</table>\n",
       "<table class=\"simpletable\">\n",
       "<tr>\n",
       "     <td>Omnibus:</td>    <td>41.314</td>  <td>Durbin-Watson:</td>    <td>2.142</td>\n",
       "</tr>\n",
       "<tr>\n",
       "  <td>Prob(Omnibus):</td>  <td>0.000</td> <td>Jarque-Bera (JB):</td> <td>53.427</td>\n",
       "</tr>\n",
       "<tr>\n",
       "       <td>Skew:</td>     <td>-0.883</td>     <td>Prob(JB):</td>      <td>0.000</td>\n",
       "</tr>\n",
       "<tr>\n",
       "     <td>Kurtosis:</td>    <td>3.807</td>  <td>Condition No.:</td>     <td>339</td> \n",
       "</tr>\n",
       "</table>"
      ],
      "text/plain": [
       "<class 'statsmodels.iolib.summary2.Summary'>\n",
       "\"\"\"\n",
       "                 Results: Ordinary least squares\n",
       "=================================================================\n",
       "Model:              OLS              Adj. R-squared:     0.179   \n",
       "Dependent Variable: score            AIC:                405.7906\n",
       "Date:               2019-04-03 16:53 BIC:                451.7380\n",
       "No. Observations:   340              Log-Likelihood:     -190.90 \n",
       "Df Model:           11               F-statistic:        7.707   \n",
       "Df Residuals:       328              Prob (F-statistic): 7.23e-12\n",
       "R-squared:          0.205            Scale:              0.18655 \n",
       "-----------------------------------------------------------------\n",
       "                   Coef.  Std.Err.    t    P>|t|   [0.025  0.975]\n",
       "-----------------------------------------------------------------\n",
       "Intercept          3.9255   0.1068 36.7663 0.0000  3.7155  4.1355\n",
       "title[T.助理教授]     -0.1006   0.0703 -1.4317 0.1532 -0.2388  0.0376\n",
       "title[T.正教授]       0.1637   0.0696  2.3543 0.0191  0.0269  0.3006\n",
       "student[T.本科生]     0.0945   0.0673  1.4027 0.1616 -0.0380  0.2269\n",
       "student[T.研究生]     0.2429   0.0583  4.1692 0.0000  0.1283  0.3575\n",
       "year[T.2003]       0.1446   0.0594  2.4368 0.0153  0.0279  0.2614\n",
       "year[T.2004]       0.2404   0.0569  4.2218 0.0000  0.1284  0.3524\n",
       "semester[T.秋季]    -0.0214   0.0845 -0.2529 0.8005 -0.1877  0.1449\n",
       "sex                0.0334   0.0665  0.5020 0.6160 -0.0974  0.1641\n",
       "group              0.6018   0.1611  3.7365 0.0002  0.2850  0.9187\n",
       "size               0.0009   0.0012  0.7530 0.4520 -0.0015  0.0033\n",
       "group:size        -0.0351   0.0107 -3.2825 0.0011 -0.0562 -0.0141\n",
       "-----------------------------------------------------------------\n",
       "Omnibus:              41.314       Durbin-Watson:          2.142 \n",
       "Prob(Omnibus):        0.000        Jarque-Bera (JB):       53.427\n",
       "Skew:                 -0.883       Prob(JB):               0.000 \n",
       "Kurtosis:             3.807        Condition No.:          339   \n",
       "=================================================================\n",
       "\n",
       "\"\"\""
      ]
     },
     "execution_count": 180,
     "metadata": {},
     "output_type": "execute_result"
    }
   ],
   "source": [
    "lm31.summary2()"
   ]
  },
  {
   "cell_type": "code",
   "execution_count": 181,
   "metadata": {
    "scrolled": true
   },
   "outputs": [
    {
     "data": {
      "text/html": [
       "<div>\n",
       "<style scoped>\n",
       "    .dataframe tbody tr th:only-of-type {\n",
       "        vertical-align: middle;\n",
       "    }\n",
       "\n",
       "    .dataframe tbody tr th {\n",
       "        vertical-align: top;\n",
       "    }\n",
       "\n",
       "    .dataframe thead th {\n",
       "        text-align: right;\n",
       "    }\n",
       "</style>\n",
       "<table border=\"1\" class=\"dataframe\">\n",
       "  <thead>\n",
       "    <tr style=\"text-align: right;\">\n",
       "      <th></th>\n",
       "      <th>sum_sq</th>\n",
       "      <th>df</th>\n",
       "      <th>F</th>\n",
       "      <th>PR(&gt;F)</th>\n",
       "    </tr>\n",
       "  </thead>\n",
       "  <tbody>\n",
       "    <tr>\n",
       "      <th>Intercept</th>\n",
       "      <td>416.906120</td>\n",
       "      <td>1.0</td>\n",
       "      <td>2246.554354</td>\n",
       "      <td>2.542363e-149</td>\n",
       "    </tr>\n",
       "    <tr>\n",
       "      <th>title</th>\n",
       "      <td>3.568658</td>\n",
       "      <td>2.0</td>\n",
       "      <td>9.615096</td>\n",
       "      <td>8.736872e-05</td>\n",
       "    </tr>\n",
       "    <tr>\n",
       "      <th>student</th>\n",
       "      <td>3.242879</td>\n",
       "      <td>2.0</td>\n",
       "      <td>8.737343</td>\n",
       "      <td>2.006674e-04</td>\n",
       "    </tr>\n",
       "    <tr>\n",
       "      <th>year</th>\n",
       "      <td>3.566751</td>\n",
       "      <td>2.0</td>\n",
       "      <td>9.609958</td>\n",
       "      <td>8.779395e-05</td>\n",
       "    </tr>\n",
       "    <tr>\n",
       "      <th>group</th>\n",
       "      <td>2.567771</td>\n",
       "      <td>1.0</td>\n",
       "      <td>13.836779</td>\n",
       "      <td>2.342672e-04</td>\n",
       "    </tr>\n",
       "    <tr>\n",
       "      <th>size</th>\n",
       "      <td>0.086642</td>\n",
       "      <td>1.0</td>\n",
       "      <td>0.466885</td>\n",
       "      <td>4.949033e-01</td>\n",
       "    </tr>\n",
       "    <tr>\n",
       "      <th>group:size</th>\n",
       "      <td>1.995607</td>\n",
       "      <td>1.0</td>\n",
       "      <td>10.753594</td>\n",
       "      <td>1.151792e-03</td>\n",
       "    </tr>\n",
       "    <tr>\n",
       "      <th>Residual</th>\n",
       "      <td>61.240014</td>\n",
       "      <td>330.0</td>\n",
       "      <td>NaN</td>\n",
       "      <td>NaN</td>\n",
       "    </tr>\n",
       "  </tbody>\n",
       "</table>\n",
       "</div>"
      ],
      "text/plain": [
       "                sum_sq     df            F         PR(>F)\n",
       "Intercept   416.906120    1.0  2246.554354  2.542363e-149\n",
       "title         3.568658    2.0     9.615096   8.736872e-05\n",
       "student       3.242879    2.0     8.737343   2.006674e-04\n",
       "year          3.566751    2.0     9.609958   8.779395e-05\n",
       "group         2.567771    1.0    13.836779   2.342672e-04\n",
       "size          0.086642    1.0     0.466885   4.949033e-01\n",
       "group:size    1.995607    1.0    10.753594   1.151792e-03\n",
       "Residual     61.240014  330.0          NaN            NaN"
      ]
     },
     "execution_count": 181,
     "metadata": {},
     "output_type": "execute_result"
    }
   ],
   "source": [
    "lm32 = smf.ols('score ~ title+student+year+group * size', data=a).fit()  # 去掉教员性别（gender）和学期（semester）\n",
    "anova_lm(lm32, typ=\"III\")"
   ]
  },
  {
   "cell_type": "code",
   "execution_count": 182,
   "metadata": {},
   "outputs": [
    {
     "data": {
      "text/html": [
       "<table class=\"simpletable\">\n",
       "<tr>\n",
       "        <td>Model:</td>               <td>OLS</td>         <td>Adj. R-squared:</td>     <td>0.183</td> \n",
       "</tr>\n",
       "<tr>\n",
       "  <td>Dependent Variable:</td>       <td>score</td>             <td>AIC:</td>         <td>402.0690</td>\n",
       "</tr>\n",
       "<tr>\n",
       "         <td>Date:</td>        <td>2019-04-03 16:53</td>        <td>BIC:</td>         <td>440.3584</td>\n",
       "</tr>\n",
       "<tr>\n",
       "   <td>No. Observations:</td>         <td>340</td>         <td>Log-Likelihood:</td>    <td>-191.03</td>\n",
       "</tr>\n",
       "<tr>\n",
       "       <td>Df Model:</td>              <td>9</td>           <td>F-statistic:</td>       <td>9.440</td> \n",
       "</tr>\n",
       "<tr>\n",
       "     <td>Df Residuals:</td>           <td>330</td>       <td>Prob (F-statistic):</td> <td>8.42e-13</td>\n",
       "</tr>\n",
       "<tr>\n",
       "      <td>R-squared:</td>            <td>0.205</td>            <td>Scale:</td>         <td>0.18558</td>\n",
       "</tr>\n",
       "</table>\n",
       "<table class=\"simpletable\">\n",
       "<tr>\n",
       "         <td></td>         <th>Coef.</th>  <th>Std.Err.</th>    <th>t</th>     <th>P>|t|</th> <th>[0.025</th>  <th>0.975]</th> \n",
       "</tr>\n",
       "<tr>\n",
       "  <th>Intercept</th>      <td>3.9161</td>   <td>0.0826</td>  <td>47.3978</td> <td>0.0000</td> <td>3.7536</td>  <td>4.0786</td> \n",
       "</tr>\n",
       "<tr>\n",
       "  <th>title[T.助理教授]</th>  <td>-0.0962</td>  <td>0.0695</td>  <td>-1.3850</td> <td>0.1670</td> <td>-0.2328</td> <td>0.0404</td> \n",
       "</tr>\n",
       "<tr>\n",
       "  <th>title[T.正教授]</th>   <td>0.1748</td>   <td>0.0525</td>  <td>3.3313</td>  <td>0.0010</td> <td>0.0716</td>  <td>0.2781</td> \n",
       "</tr>\n",
       "<tr>\n",
       "  <th>student[T.本科生]</th> <td>0.0954</td>   <td>0.0671</td>  <td>1.4204</td>  <td>0.1564</td> <td>-0.0367</td> <td>0.2274</td> \n",
       "</tr>\n",
       "<tr>\n",
       "  <th>student[T.研究生]</th> <td>0.2416</td>   <td>0.0578</td>  <td>4.1802</td>  <td>0.0000</td> <td>0.1279</td>  <td>0.3552</td> \n",
       "</tr>\n",
       "<tr>\n",
       "  <th>year[T.2003]</th>   <td>0.1470</td>   <td>0.0590</td>  <td>2.4927</td>  <td>0.0132</td> <td>0.0310</td>  <td>0.2630</td> \n",
       "</tr>\n",
       "<tr>\n",
       "  <th>year[T.2004]</th>   <td>0.2415</td>   <td>0.0567</td>  <td>4.2558</td>  <td>0.0000</td> <td>0.1299</td>  <td>0.3531</td> \n",
       "</tr>\n",
       "<tr>\n",
       "  <th>group</th>          <td>0.5962</td>   <td>0.1603</td>  <td>3.7198</td>  <td>0.0002</td> <td>0.2809</td>  <td>0.9115</td> \n",
       "</tr>\n",
       "<tr>\n",
       "  <th>size</th>           <td>0.0008</td>   <td>0.0011</td>  <td>0.6833</td>  <td>0.4949</td> <td>-0.0014</td> <td>0.0029</td> \n",
       "</tr>\n",
       "<tr>\n",
       "  <th>group:size</th>     <td>-0.0349</td>  <td>0.0107</td>  <td>-3.2793</td> <td>0.0012</td> <td>-0.0559</td> <td>-0.0140</td>\n",
       "</tr>\n",
       "</table>\n",
       "<table class=\"simpletable\">\n",
       "<tr>\n",
       "     <td>Omnibus:</td>    <td>41.313</td>  <td>Durbin-Watson:</td>    <td>2.141</td>\n",
       "</tr>\n",
       "<tr>\n",
       "  <td>Prob(Omnibus):</td>  <td>0.000</td> <td>Jarque-Bera (JB):</td> <td>53.315</td>\n",
       "</tr>\n",
       "<tr>\n",
       "       <td>Skew:</td>     <td>-0.886</td>     <td>Prob(JB):</td>      <td>0.000</td>\n",
       "</tr>\n",
       "<tr>\n",
       "     <td>Kurtosis:</td>    <td>3.788</td>  <td>Condition No.:</td>     <td>338</td> \n",
       "</tr>\n",
       "</table>"
      ],
      "text/plain": [
       "<class 'statsmodels.iolib.summary2.Summary'>\n",
       "\"\"\"\n",
       "                 Results: Ordinary least squares\n",
       "=================================================================\n",
       "Model:              OLS              Adj. R-squared:     0.183   \n",
       "Dependent Variable: score            AIC:                402.0690\n",
       "Date:               2019-04-03 16:53 BIC:                440.3584\n",
       "No. Observations:   340              Log-Likelihood:     -191.03 \n",
       "Df Model:           9                F-statistic:        9.440   \n",
       "Df Residuals:       330              Prob (F-statistic): 8.42e-13\n",
       "R-squared:          0.205            Scale:              0.18558 \n",
       "-----------------------------------------------------------------\n",
       "                   Coef.  Std.Err.    t    P>|t|   [0.025  0.975]\n",
       "-----------------------------------------------------------------\n",
       "Intercept          3.9161   0.0826 47.3978 0.0000  3.7536  4.0786\n",
       "title[T.助理教授]     -0.0962   0.0695 -1.3850 0.1670 -0.2328  0.0404\n",
       "title[T.正教授]       0.1748   0.0525  3.3313 0.0010  0.0716  0.2781\n",
       "student[T.本科生]     0.0954   0.0671  1.4204 0.1564 -0.0367  0.2274\n",
       "student[T.研究生]     0.2416   0.0578  4.1802 0.0000  0.1279  0.3552\n",
       "year[T.2003]       0.1470   0.0590  2.4927 0.0132  0.0310  0.2630\n",
       "year[T.2004]       0.2415   0.0567  4.2558 0.0000  0.1299  0.3531\n",
       "group              0.5962   0.1603  3.7198 0.0002  0.2809  0.9115\n",
       "size               0.0008   0.0011  0.6833 0.4949 -0.0014  0.0029\n",
       "group:size        -0.0349   0.0107 -3.2793 0.0012 -0.0559 -0.0140\n",
       "-----------------------------------------------------------------\n",
       "Omnibus:              41.313       Durbin-Watson:          2.141 \n",
       "Prob(Omnibus):        0.000        Jarque-Bera (JB):       53.315\n",
       "Skew:                 -0.886       Prob(JB):               0.000 \n",
       "Kurtosis:             3.788        Condition No.:          338   \n",
       "=================================================================\n",
       "\n",
       "\"\"\""
      ]
     },
     "execution_count": 182,
     "metadata": {},
     "output_type": "execute_result"
    }
   ],
   "source": [
    "lm32.summary2()"
   ]
  },
  {
   "cell_type": "markdown",
   "metadata": {},
   "source": [
    "报表中每个因素下消失的水平：\n",
    "- 教员职称：副教授\n",
    "- 学生类别：MBA\n",
    "- 年份：2002年\n",
    "- 班级规模：人数大于20人的班级  \n",
    "这说明，我们的标准课程类型为**2002年副教授讲授的MBA课程，且学生人数超过20人**。（此标准课程对应于一条标准的关于学生人数的回归直线）。  \n",
    "$$ \\begin{eqnarray*}\n",
    "  教学评估成绩 = 3.916 + 0.001 \\times 学生人数 + \\epsilon\\\\  \n",
    "  \\end{eqnarray*}$$"
   ]
  },
  {
   "cell_type": "markdown",
   "metadata": {},
   "source": [
    "若我们感兴趣的课程是**2002年副教授讲授的MBA课程，且学生人数不超过20人**，其回归直线为：\n",
    "$$ \\begin{eqnarray*}\n",
    "  教学评估成绩 & = & 3.916 + (0.001 - 0.035) \\times 学生人数 + \\epsilon\\\\  \n",
    "   & = & 3.916 - 0.034 \\times 学生人数 + \\epsilon \\end{eqnarray*}$$"
   ]
  },
  {
   "cell_type": "markdown",
   "metadata": {},
   "source": [
    "若我们感兴趣的课程是**2003年某助理教授讲授的本科生课程，且学生人数不超过20人**，其回归直线为：  \n",
    "  $$ \\begin{eqnarray*}\n",
    "  教学评估成绩 & = & (3.916 -0.096 + 0.095 + 0.147) + (0.001 - 0.035) \\times 学生人数 + \\epsilon\\\\  \n",
    "   & = & 4.062 - 0.034 \\times 学生人数 + \\epsilon \\end{eqnarray*}$$"
   ]
  },
  {
   "cell_type": "markdown",
   "metadata": {},
   "source": [
    "结论：  \n",
    "1. 教员职称显著影响教学评估成绩。随着教员职称的提高（从助理教授到副教授再到正教授），平均教学评估成绩（以中位数计）依次增高；  \n",
    "2. 不同的学生类别对教学评估成绩影响很大。普通研究生给出的平均教学评估成绩明显高于本科生和MBA，而本科生和MBA之间差异大；  \n",
    "3. 随着时间的推移，北京大学光华管理学院的教学评估成绩稳步提高；  \n",
    "4. 小于20人的班级的教学评估成绩明显高于大于20人的班级；  \n",
    "5. 学生人数对大规模班级影响甚微，但对小规模班级影响显著。"
   ]
  },
  {
   "cell_type": "code",
   "execution_count": 184,
   "metadata": {},
   "outputs": [
    {
     "data": {
      "image/png": "[encoded data removed]",
      "text/plain": [
       "<Figure size 432x288 with 2 Axes>"
      ]
     },
     "metadata": {
      "needs_background": "light"
     },
     "output_type": "display_data"
    },
    {
     "data": {
      "image/png": "[encoded data removed]",
      "text/plain": [
       "<Figure size 432x288 with 2 Axes>"
      ]
     },
     "metadata": {
      "needs_background": "light"
     },
     "output_type": "display_data"
    }
   ],
   "source": [
    "# 1\n",
    "plt.subplot(221)\n",
    "plt.scatter(lm32.fittedvalues, lm32.resid, s=12, facecolors='none', edgecolors='blue')\n",
    "plt.axhline(y=0,linestyle='--',color='grey')\n",
    "plt.title('Residuals vs Fitted')\n",
    "\n",
    "# 2\n",
    "plt.subplot(222)\n",
    "stats.probplot(lm32.resid,dist='norm',plot=plt)\n",
    "plt.title('Normal Q-Q')\n",
    "plt.show()\n",
    "\n",
    "# 3\n",
    "plt.subplot(223)\n",
    "plt.scatter(lm32.fittedvalues, abs(lm32.resid) ** 0.5, s=12, facecolors='none', edgecolors='blue')\n",
    "#plt.ylabel(\"\")\n",
    "plt.title(\"Scale-Location\")\n",
    "\n",
    "# 4\n",
    "plt.subplot(224)\n",
    "lm32_influence = lm32.get_influence()\n",
    "plt.plot(lm32_influence.cooks_distance[0],color='blue')\n",
    "plt.title(\"Cook's distance\");"
   ]
  },
  {
   "cell_type": "markdown",
   "metadata": {},
   "source": [
    "# 模型选择与预测"
   ]
  },
  {
   "cell_type": "code",
   "execution_count": 185,
   "metadata": {},
   "outputs": [
    {
     "data": {
      "text/html": [
       "<div>\n",
       "<style scoped>\n",
       "    .dataframe tbody tr th:only-of-type {\n",
       "        vertical-align: middle;\n",
       "    }\n",
       "\n",
       "    .dataframe tbody tr th {\n",
       "        vertical-align: top;\n",
       "    }\n",
       "\n",
       "    .dataframe thead th {\n",
       "        text-align: right;\n",
       "    }\n",
       "</style>\n",
       "<table border=\"1\" class=\"dataframe\">\n",
       "  <thead>\n",
       "    <tr style=\"text-align: right;\">\n",
       "      <th></th>\n",
       "      <th>sum_sq</th>\n",
       "      <th>df</th>\n",
       "      <th>F</th>\n",
       "      <th>PR(&gt;F)</th>\n",
       "    </tr>\n",
       "  </thead>\n",
       "  <tbody>\n",
       "    <tr>\n",
       "      <th>Intercept</th>\n",
       "      <td>252.177135</td>\n",
       "      <td>1.0</td>\n",
       "      <td>1351.760723</td>\n",
       "      <td>2.255591e-118</td>\n",
       "    </tr>\n",
       "    <tr>\n",
       "      <th>title</th>\n",
       "      <td>1.938447</td>\n",
       "      <td>2.0</td>\n",
       "      <td>5.195388</td>\n",
       "      <td>6.007221e-03</td>\n",
       "    </tr>\n",
       "    <tr>\n",
       "      <th>student</th>\n",
       "      <td>3.242909</td>\n",
       "      <td>2.0</td>\n",
       "      <td>8.691582</td>\n",
       "      <td>2.098551e-04</td>\n",
       "    </tr>\n",
       "    <tr>\n",
       "      <th>year</th>\n",
       "      <td>3.511289</td>\n",
       "      <td>2.0</td>\n",
       "      <td>9.410889</td>\n",
       "      <td>1.061371e-04</td>\n",
       "    </tr>\n",
       "    <tr>\n",
       "      <th>semester</th>\n",
       "      <td>0.011929</td>\n",
       "      <td>1.0</td>\n",
       "      <td>0.063945</td>\n",
       "      <td>8.005250e-01</td>\n",
       "    </tr>\n",
       "    <tr>\n",
       "      <th>sex</th>\n",
       "      <td>0.047006</td>\n",
       "      <td>1.0</td>\n",
       "      <td>0.251971</td>\n",
       "      <td>6.160271e-01</td>\n",
       "    </tr>\n",
       "    <tr>\n",
       "      <th>group</th>\n",
       "      <td>2.604529</td>\n",
       "      <td>1.0</td>\n",
       "      <td>13.961217</td>\n",
       "      <td>2.200647e-04</td>\n",
       "    </tr>\n",
       "    <tr>\n",
       "      <th>size</th>\n",
       "      <td>0.105781</td>\n",
       "      <td>1.0</td>\n",
       "      <td>0.567024</td>\n",
       "      <td>4.519841e-01</td>\n",
       "    </tr>\n",
       "    <tr>\n",
       "      <th>group:size</th>\n",
       "      <td>2.010103</td>\n",
       "      <td>1.0</td>\n",
       "      <td>10.774881</td>\n",
       "      <td>1.139731e-03</td>\n",
       "    </tr>\n",
       "    <tr>\n",
       "      <th>Residual</th>\n",
       "      <td>61.189898</td>\n",
       "      <td>328.0</td>\n",
       "      <td>NaN</td>\n",
       "      <td>NaN</td>\n",
       "    </tr>\n",
       "  </tbody>\n",
       "</table>\n",
       "</div>"
      ],
      "text/plain": [
       "                sum_sq     df            F         PR(>F)\n",
       "Intercept   252.177135    1.0  1351.760723  2.255591e-118\n",
       "title         1.938447    2.0     5.195388   6.007221e-03\n",
       "student       3.242909    2.0     8.691582   2.098551e-04\n",
       "year          3.511289    2.0     9.410889   1.061371e-04\n",
       "semester      0.011929    1.0     0.063945   8.005250e-01\n",
       "sex           0.047006    1.0     0.251971   6.160271e-01\n",
       "group         2.604529    1.0    13.961217   2.200647e-04\n",
       "size          0.105781    1.0     0.567024   4.519841e-01\n",
       "group:size    2.010103    1.0    10.774881   1.139731e-03\n",
       "Residual     61.189898  328.0          NaN            NaN"
      ]
     },
     "execution_count": 185,
     "metadata": {},
     "output_type": "execute_result"
    }
   ],
   "source": [
    "anova_lm(lm31, typ=\"III\")"
   ]
  },
  {
   "cell_type": "code",
   "execution_count": 6,
   "metadata": {},
   "outputs": [
    {
     "data": {
      "text/plain": [
       "407.79"
      ]
     },
     "execution_count": 6,
     "metadata": {},
     "output_type": "execute_result"
    }
   ],
   "source": [
    "# 计算AIC\n",
    "lm31_AIC = 340*(math.log(61.190/340) + 1 + math.log(2*math.pi)) + 2 * (12 + 1)\n",
    "round(lm31_AIC,2)"
   ]
  },
  {
   "cell_type": "code",
   "execution_count": 8,
   "metadata": {},
   "outputs": [
    {
     "data": {
      "text/plain": [
       "457.57"
      ]
     },
     "execution_count": 8,
     "metadata": {},
     "output_type": "execute_result"
    }
   ],
   "source": [
    "# 计算IC\n",
    "lm31_BIC = 340*(math.log(61.190/340) + 1 + math.log(2*math.pi)) + math.log(340) * (12 + 1)\n",
    "round(lm31_BIC,2)"
   ]
  },
  {
   "cell_type": "code",
   "execution_count": 227,
   "metadata": {},
   "outputs": [
    {
     "data": {
      "text/html": [
       "<div>\n",
       "<style scoped>\n",
       "    .dataframe tbody tr th:only-of-type {\n",
       "        vertical-align: middle;\n",
       "    }\n",
       "\n",
       "    .dataframe tbody tr th {\n",
       "        vertical-align: top;\n",
       "    }\n",
       "\n",
       "    .dataframe thead th {\n",
       "        text-align: right;\n",
       "    }\n",
       "</style>\n",
       "<table border=\"1\" class=\"dataframe\">\n",
       "  <thead>\n",
       "    <tr style=\"text-align: right;\">\n",
       "      <th></th>\n",
       "      <th>0</th>\n",
       "      <th>1</th>\n",
       "      <th>2</th>\n",
       "      <th>3</th>\n",
       "    </tr>\n",
       "  </thead>\n",
       "  <tbody>\n",
       "    <tr>\n",
       "      <th>0</th>\n",
       "      <td>Model:</td>\n",
       "      <td>OLS</td>\n",
       "      <td>Adj. R-squared:</td>\n",
       "      <td>0.179</td>\n",
       "    </tr>\n",
       "    <tr>\n",
       "      <th>1</th>\n",
       "      <td>Dependent Variable:</td>\n",
       "      <td>score</td>\n",
       "      <td>AIC:</td>\n",
       "      <td>405.7906</td>\n",
       "    </tr>\n",
       "    <tr>\n",
       "      <th>2</th>\n",
       "      <td>Date:</td>\n",
       "      <td>2019-04-03 18:50</td>\n",
       "      <td>BIC:</td>\n",
       "      <td>451.7380</td>\n",
       "    </tr>\n",
       "    <tr>\n",
       "      <th>3</th>\n",
       "      <td>No. Observations:</td>\n",
       "      <td>340</td>\n",
       "      <td>Log-Likelihood:</td>\n",
       "      <td>-190.90</td>\n",
       "    </tr>\n",
       "    <tr>\n",
       "      <th>4</th>\n",
       "      <td>Df Model:</td>\n",
       "      <td>11</td>\n",
       "      <td>F-statistic:</td>\n",
       "      <td>7.707</td>\n",
       "    </tr>\n",
       "    <tr>\n",
       "      <th>5</th>\n",
       "      <td>Df Residuals:</td>\n",
       "      <td>328</td>\n",
       "      <td>Prob (F-statistic):</td>\n",
       "      <td>7.23e-12</td>\n",
       "    </tr>\n",
       "    <tr>\n",
       "      <th>6</th>\n",
       "      <td>R-squared:</td>\n",
       "      <td>0.205</td>\n",
       "      <td>Scale:</td>\n",
       "      <td>0.18655</td>\n",
       "    </tr>\n",
       "  </tbody>\n",
       "</table>\n",
       "</div>"
      ],
      "text/plain": [
       "                     0                 1                    2         3\n",
       "0               Model:               OLS      Adj. R-squared:     0.179\n",
       "1  Dependent Variable:             score                 AIC:  405.7906\n",
       "2                Date:  2019-04-03 18:50                 BIC:  451.7380\n",
       "3    No. Observations:               340      Log-Likelihood:   -190.90\n",
       "4            Df Model:                11         F-statistic:     7.707\n",
       "5        Df Residuals:               328  Prob (F-statistic):  7.23e-12\n",
       "6           R-squared:             0.205               Scale:   0.18655"
      ]
     },
     "execution_count": 227,
     "metadata": {},
     "output_type": "execute_result"
    }
   ],
   "source": [
    "lm31.summary2().tables[0]  # python中自动计算结果与手动结果稍微有差异"
   ]
  },
  {
   "cell_type": "code",
   "execution_count": 187,
   "metadata": {},
   "outputs": [
    {
     "data": {
      "text/html": [
       "<div>\n",
       "<style scoped>\n",
       "    .dataframe tbody tr th:only-of-type {\n",
       "        vertical-align: middle;\n",
       "    }\n",
       "\n",
       "    .dataframe tbody tr th {\n",
       "        vertical-align: top;\n",
       "    }\n",
       "\n",
       "    .dataframe thead th {\n",
       "        text-align: right;\n",
       "    }\n",
       "</style>\n",
       "<table border=\"1\" class=\"dataframe\">\n",
       "  <thead>\n",
       "    <tr style=\"text-align: right;\">\n",
       "      <th></th>\n",
       "      <th>sum_sq</th>\n",
       "      <th>df</th>\n",
       "      <th>F</th>\n",
       "      <th>PR(&gt;F)</th>\n",
       "    </tr>\n",
       "  </thead>\n",
       "  <tbody>\n",
       "    <tr>\n",
       "      <th>Intercept</th>\n",
       "      <td>416.906120</td>\n",
       "      <td>1.0</td>\n",
       "      <td>2246.554354</td>\n",
       "      <td>2.542363e-149</td>\n",
       "    </tr>\n",
       "    <tr>\n",
       "      <th>title</th>\n",
       "      <td>3.568658</td>\n",
       "      <td>2.0</td>\n",
       "      <td>9.615096</td>\n",
       "      <td>8.736872e-05</td>\n",
       "    </tr>\n",
       "    <tr>\n",
       "      <th>student</th>\n",
       "      <td>3.242879</td>\n",
       "      <td>2.0</td>\n",
       "      <td>8.737343</td>\n",
       "      <td>2.006674e-04</td>\n",
       "    </tr>\n",
       "    <tr>\n",
       "      <th>year</th>\n",
       "      <td>3.566751</td>\n",
       "      <td>2.0</td>\n",
       "      <td>9.609958</td>\n",
       "      <td>8.779395e-05</td>\n",
       "    </tr>\n",
       "    <tr>\n",
       "      <th>group</th>\n",
       "      <td>2.567771</td>\n",
       "      <td>1.0</td>\n",
       "      <td>13.836779</td>\n",
       "      <td>2.342672e-04</td>\n",
       "    </tr>\n",
       "    <tr>\n",
       "      <th>size</th>\n",
       "      <td>0.086642</td>\n",
       "      <td>1.0</td>\n",
       "      <td>0.466885</td>\n",
       "      <td>4.949033e-01</td>\n",
       "    </tr>\n",
       "    <tr>\n",
       "      <th>group:size</th>\n",
       "      <td>1.995607</td>\n",
       "      <td>1.0</td>\n",
       "      <td>10.753594</td>\n",
       "      <td>1.151792e-03</td>\n",
       "    </tr>\n",
       "    <tr>\n",
       "      <th>Residual</th>\n",
       "      <td>61.240014</td>\n",
       "      <td>330.0</td>\n",
       "      <td>NaN</td>\n",
       "      <td>NaN</td>\n",
       "    </tr>\n",
       "  </tbody>\n",
       "</table>\n",
       "</div>"
      ],
      "text/plain": [
       "                sum_sq     df            F         PR(>F)\n",
       "Intercept   416.906120    1.0  2246.554354  2.542363e-149\n",
       "title         3.568658    2.0     9.615096   8.736872e-05\n",
       "student       3.242879    2.0     8.737343   2.006674e-04\n",
       "year          3.566751    2.0     9.609958   8.779395e-05\n",
       "group         2.567771    1.0    13.836779   2.342672e-04\n",
       "size          0.086642    1.0     0.466885   4.949033e-01\n",
       "group:size    1.995607    1.0    10.753594   1.151792e-03\n",
       "Residual     61.240014  330.0          NaN            NaN"
      ]
     },
     "execution_count": 187,
     "metadata": {},
     "output_type": "execute_result"
    }
   ],
   "source": [
    "anova_lm(lm32, typ=\"III\")"
   ]
  },
  {
   "cell_type": "code",
   "execution_count": 10,
   "metadata": {},
   "outputs": [
    {
     "data": {
      "text/plain": [
       "404.069"
      ]
     },
     "execution_count": 10,
     "metadata": {},
     "output_type": "execute_result"
    }
   ],
   "source": [
    "# 计算AIC\n",
    "lm32_AIC = 340*(math.log(61.240/340) + 1 + math.log(2*math.pi)) + 2 * (10 + 1)\n",
    "round(lm32_AIC,3)"
   ]
  },
  {
   "cell_type": "code",
   "execution_count": 14,
   "metadata": {},
   "outputs": [
    {
     "data": {
      "text/plain": [
       "446.187"
      ]
     },
     "execution_count": 14,
     "metadata": {},
     "output_type": "execute_result"
    }
   ],
   "source": [
    "# 计算BIC\n",
    "lm32_BIC = 340*(math.log(61.240/340) + 1 + math.log(2*math.pi)) + math.log(340) * (10 + 1)\n",
    "round(lm32_BIC,3)"
   ]
  },
  {
   "cell_type": "code",
   "execution_count": 188,
   "metadata": {},
   "outputs": [
    {
     "data": {
      "text/html": [
       "<div>\n",
       "<style scoped>\n",
       "    .dataframe tbody tr th:only-of-type {\n",
       "        vertical-align: middle;\n",
       "    }\n",
       "\n",
       "    .dataframe tbody tr th {\n",
       "        vertical-align: top;\n",
       "    }\n",
       "\n",
       "    .dataframe thead th {\n",
       "        text-align: right;\n",
       "    }\n",
       "</style>\n",
       "<table border=\"1\" class=\"dataframe\">\n",
       "  <thead>\n",
       "    <tr style=\"text-align: right;\">\n",
       "      <th></th>\n",
       "      <th>0</th>\n",
       "      <th>1</th>\n",
       "      <th>2</th>\n",
       "      <th>3</th>\n",
       "    </tr>\n",
       "  </thead>\n",
       "  <tbody>\n",
       "    <tr>\n",
       "      <th>0</th>\n",
       "      <td>Model:</td>\n",
       "      <td>OLS</td>\n",
       "      <td>Adj. R-squared:</td>\n",
       "      <td>0.183</td>\n",
       "    </tr>\n",
       "    <tr>\n",
       "      <th>1</th>\n",
       "      <td>Dependent Variable:</td>\n",
       "      <td>score</td>\n",
       "      <td>AIC:</td>\n",
       "      <td>402.0690</td>\n",
       "    </tr>\n",
       "    <tr>\n",
       "      <th>2</th>\n",
       "      <td>Date:</td>\n",
       "      <td>2019-04-03 16:53</td>\n",
       "      <td>BIC:</td>\n",
       "      <td>440.3584</td>\n",
       "    </tr>\n",
       "    <tr>\n",
       "      <th>3</th>\n",
       "      <td>No. Observations:</td>\n",
       "      <td>340</td>\n",
       "      <td>Log-Likelihood:</td>\n",
       "      <td>-191.03</td>\n",
       "    </tr>\n",
       "    <tr>\n",
       "      <th>4</th>\n",
       "      <td>Df Model:</td>\n",
       "      <td>9</td>\n",
       "      <td>F-statistic:</td>\n",
       "      <td>9.440</td>\n",
       "    </tr>\n",
       "    <tr>\n",
       "      <th>5</th>\n",
       "      <td>Df Residuals:</td>\n",
       "      <td>330</td>\n",
       "      <td>Prob (F-statistic):</td>\n",
       "      <td>8.42e-13</td>\n",
       "    </tr>\n",
       "    <tr>\n",
       "      <th>6</th>\n",
       "      <td>R-squared:</td>\n",
       "      <td>0.205</td>\n",
       "      <td>Scale:</td>\n",
       "      <td>0.18558</td>\n",
       "    </tr>\n",
       "  </tbody>\n",
       "</table>\n",
       "</div>"
      ],
      "text/plain": [
       "                     0                 1                    2         3\n",
       "0               Model:               OLS      Adj. R-squared:     0.183\n",
       "1  Dependent Variable:             score                 AIC:  402.0690\n",
       "2                Date:  2019-04-03 16:53                 BIC:  440.3584\n",
       "3    No. Observations:               340      Log-Likelihood:   -191.03\n",
       "4            Df Model:                 9         F-statistic:     9.440\n",
       "5        Df Residuals:               330  Prob (F-statistic):  8.42e-13\n",
       "6           R-squared:             0.205               Scale:   0.18558"
      ]
     },
     "execution_count": 188,
     "metadata": {},
     "output_type": "execute_result"
    }
   ],
   "source": [
    "lm32.summary2().tables[0]"
   ]
  },
  {
   "cell_type": "code",
   "execution_count": 189,
   "metadata": {},
   "outputs": [],
   "source": [
    "s32=lm32.summary2()"
   ]
  },
  {
   "cell_type": "code",
   "execution_count": 190,
   "metadata": {},
   "outputs": [
    {
     "data": {
      "text/html": [
       "<div>\n",
       "<style scoped>\n",
       "    .dataframe tbody tr th:only-of-type {\n",
       "        vertical-align: middle;\n",
       "    }\n",
       "\n",
       "    .dataframe tbody tr th {\n",
       "        vertical-align: top;\n",
       "    }\n",
       "\n",
       "    .dataframe thead th {\n",
       "        text-align: right;\n",
       "    }\n",
       "</style>\n",
       "<table border=\"1\" class=\"dataframe\">\n",
       "  <thead>\n",
       "    <tr style=\"text-align: right;\">\n",
       "      <th></th>\n",
       "      <th>0</th>\n",
       "      <th>1</th>\n",
       "      <th>2</th>\n",
       "      <th>3</th>\n",
       "    </tr>\n",
       "  </thead>\n",
       "  <tbody>\n",
       "    <tr>\n",
       "      <th>0</th>\n",
       "      <td>Model:</td>\n",
       "      <td>OLS</td>\n",
       "      <td>Adj. R-squared:</td>\n",
       "      <td>0.183</td>\n",
       "    </tr>\n",
       "    <tr>\n",
       "      <th>1</th>\n",
       "      <td>Dependent Variable:</td>\n",
       "      <td>score</td>\n",
       "      <td>AIC:</td>\n",
       "      <td>402.0690</td>\n",
       "    </tr>\n",
       "    <tr>\n",
       "      <th>2</th>\n",
       "      <td>Date:</td>\n",
       "      <td>2019-04-03 16:53</td>\n",
       "      <td>BIC:</td>\n",
       "      <td>440.3584</td>\n",
       "    </tr>\n",
       "    <tr>\n",
       "      <th>3</th>\n",
       "      <td>No. Observations:</td>\n",
       "      <td>340</td>\n",
       "      <td>Log-Likelihood:</td>\n",
       "      <td>-191.03</td>\n",
       "    </tr>\n",
       "    <tr>\n",
       "      <th>4</th>\n",
       "      <td>Df Model:</td>\n",
       "      <td>9</td>\n",
       "      <td>F-statistic:</td>\n",
       "      <td>9.440</td>\n",
       "    </tr>\n",
       "    <tr>\n",
       "      <th>5</th>\n",
       "      <td>Df Residuals:</td>\n",
       "      <td>330</td>\n",
       "      <td>Prob (F-statistic):</td>\n",
       "      <td>8.42e-13</td>\n",
       "    </tr>\n",
       "    <tr>\n",
       "      <th>6</th>\n",
       "      <td>R-squared:</td>\n",
       "      <td>0.205</td>\n",
       "      <td>Scale:</td>\n",
       "      <td>0.18558</td>\n",
       "    </tr>\n",
       "  </tbody>\n",
       "</table>\n",
       "</div>"
      ],
      "text/plain": [
       "                     0                 1                    2         3\n",
       "0               Model:               OLS      Adj. R-squared:     0.183\n",
       "1  Dependent Variable:             score                 AIC:  402.0690\n",
       "2                Date:  2019-04-03 16:53                 BIC:  440.3584\n",
       "3    No. Observations:               340      Log-Likelihood:   -191.03\n",
       "4            Df Model:                 9         F-statistic:     9.440\n",
       "5        Df Residuals:               330  Prob (F-statistic):  8.42e-13\n",
       "6           R-squared:             0.205               Scale:   0.18558"
      ]
     },
     "execution_count": 190,
     "metadata": {},
     "output_type": "execute_result"
    }
   ],
   "source": [
    "s32.tables[0]"
   ]
  },
  {
   "cell_type": "code",
   "execution_count": 191,
   "metadata": {},
   "outputs": [
    {
     "data": {
      "text/html": [
       "<div>\n",
       "<style scoped>\n",
       "    .dataframe tbody tr th:only-of-type {\n",
       "        vertical-align: middle;\n",
       "    }\n",
       "\n",
       "    .dataframe tbody tr th {\n",
       "        vertical-align: top;\n",
       "    }\n",
       "\n",
       "    .dataframe thead th {\n",
       "        text-align: right;\n",
       "    }\n",
       "</style>\n",
       "<table border=\"1\" class=\"dataframe\">\n",
       "  <thead>\n",
       "    <tr style=\"text-align: right;\">\n",
       "      <th></th>\n",
       "      <th>sum_sq</th>\n",
       "      <th>df</th>\n",
       "      <th>F</th>\n",
       "      <th>PR(&gt;F)</th>\n",
       "    </tr>\n",
       "  </thead>\n",
       "  <tbody>\n",
       "    <tr>\n",
       "      <th>Intercept</th>\n",
       "      <td>416.906120</td>\n",
       "      <td>1.0</td>\n",
       "      <td>2246.554354</td>\n",
       "      <td>2.542363e-149</td>\n",
       "    </tr>\n",
       "    <tr>\n",
       "      <th>title</th>\n",
       "      <td>3.568658</td>\n",
       "      <td>2.0</td>\n",
       "      <td>9.615096</td>\n",
       "      <td>8.736872e-05</td>\n",
       "    </tr>\n",
       "    <tr>\n",
       "      <th>student</th>\n",
       "      <td>3.242879</td>\n",
       "      <td>2.0</td>\n",
       "      <td>8.737343</td>\n",
       "      <td>2.006674e-04</td>\n",
       "    </tr>\n",
       "    <tr>\n",
       "      <th>year</th>\n",
       "      <td>3.566751</td>\n",
       "      <td>2.0</td>\n",
       "      <td>9.609958</td>\n",
       "      <td>8.779395e-05</td>\n",
       "    </tr>\n",
       "    <tr>\n",
       "      <th>group</th>\n",
       "      <td>2.567771</td>\n",
       "      <td>1.0</td>\n",
       "      <td>13.836779</td>\n",
       "      <td>2.342672e-04</td>\n",
       "    </tr>\n",
       "    <tr>\n",
       "      <th>size</th>\n",
       "      <td>0.086642</td>\n",
       "      <td>1.0</td>\n",
       "      <td>0.466885</td>\n",
       "      <td>4.949033e-01</td>\n",
       "    </tr>\n",
       "    <tr>\n",
       "      <th>group:size</th>\n",
       "      <td>1.995607</td>\n",
       "      <td>1.0</td>\n",
       "      <td>10.753594</td>\n",
       "      <td>1.151792e-03</td>\n",
       "    </tr>\n",
       "    <tr>\n",
       "      <th>Residual</th>\n",
       "      <td>61.240014</td>\n",
       "      <td>330.0</td>\n",
       "      <td>NaN</td>\n",
       "      <td>NaN</td>\n",
       "    </tr>\n",
       "  </tbody>\n",
       "</table>\n",
       "</div>"
      ],
      "text/plain": [
       "                sum_sq     df            F         PR(>F)\n",
       "Intercept   416.906120    1.0  2246.554354  2.542363e-149\n",
       "title         3.568658    2.0     9.615096   8.736872e-05\n",
       "student       3.242879    2.0     8.737343   2.006674e-04\n",
       "year          3.566751    2.0     9.609958   8.779395e-05\n",
       "group         2.567771    1.0    13.836779   2.342672e-04\n",
       "size          0.086642    1.0     0.466885   4.949033e-01\n",
       "group:size    1.995607    1.0    10.753594   1.151792e-03\n",
       "Residual     61.240014  330.0          NaN            NaN"
      ]
     },
     "execution_count": 191,
     "metadata": {},
     "output_type": "execute_result"
    }
   ],
   "source": [
    "lm32 = smf.ols('score ~ title+student+year+group * size', data=a).fit()  # 去掉教员性别（gender）和学期（semester）\n",
    "anova_lm(lm32, typ=\"III\")"
   ]
  },
  {
   "cell_type": "code",
   "execution_count": 192,
   "metadata": {},
   "outputs": [
    {
     "data": {
      "text/html": [
       "<div>\n",
       "<style scoped>\n",
       "    .dataframe tbody tr th:only-of-type {\n",
       "        vertical-align: middle;\n",
       "    }\n",
       "\n",
       "    .dataframe tbody tr th {\n",
       "        vertical-align: top;\n",
       "    }\n",
       "\n",
       "    .dataframe thead th {\n",
       "        text-align: right;\n",
       "    }\n",
       "</style>\n",
       "<table border=\"1\" class=\"dataframe\">\n",
       "  <thead>\n",
       "    <tr style=\"text-align: right;\">\n",
       "      <th></th>\n",
       "      <th>title</th>\n",
       "      <th>gender</th>\n",
       "      <th>student</th>\n",
       "      <th>year</th>\n",
       "      <th>semester</th>\n",
       "      <th>size</th>\n",
       "      <th>score</th>\n",
       "      <th>sex</th>\n",
       "      <th>group</th>\n",
       "    </tr>\n",
       "  </thead>\n",
       "  <tbody>\n",
       "    <tr>\n",
       "      <th>0</th>\n",
       "      <td>副教授</td>\n",
       "      <td>女</td>\n",
       "      <td>MBA</td>\n",
       "      <td>2002</td>\n",
       "      <td>秋季</td>\n",
       "      <td>114</td>\n",
       "      <td>3.175</td>\n",
       "      <td>1</td>\n",
       "      <td>0</td>\n",
       "    </tr>\n",
       "    <tr>\n",
       "      <th>1</th>\n",
       "      <td>副教授</td>\n",
       "      <td>女</td>\n",
       "      <td>MBA</td>\n",
       "      <td>2002</td>\n",
       "      <td>秋季</td>\n",
       "      <td>88</td>\n",
       "      <td>3.523</td>\n",
       "      <td>1</td>\n",
       "      <td>0</td>\n",
       "    </tr>\n",
       "    <tr>\n",
       "      <th>2</th>\n",
       "      <td>副教授</td>\n",
       "      <td>女</td>\n",
       "      <td>MBA</td>\n",
       "      <td>2003</td>\n",
       "      <td>秋季</td>\n",
       "      <td>83</td>\n",
       "      <td>4.458</td>\n",
       "      <td>1</td>\n",
       "      <td>0</td>\n",
       "    </tr>\n",
       "    <tr>\n",
       "      <th>3</th>\n",
       "      <td>副教授</td>\n",
       "      <td>女</td>\n",
       "      <td>MBA</td>\n",
       "      <td>2002</td>\n",
       "      <td>秋季</td>\n",
       "      <td>66</td>\n",
       "      <td>3.470</td>\n",
       "      <td>1</td>\n",
       "      <td>0</td>\n",
       "    </tr>\n",
       "    <tr>\n",
       "      <th>4</th>\n",
       "      <td>副教授</td>\n",
       "      <td>女</td>\n",
       "      <td>MBA</td>\n",
       "      <td>2003</td>\n",
       "      <td>秋季</td>\n",
       "      <td>46</td>\n",
       "      <td>4.630</td>\n",
       "      <td>1</td>\n",
       "      <td>0</td>\n",
       "    </tr>\n",
       "  </tbody>\n",
       "</table>\n",
       "</div>"
      ],
      "text/plain": [
       "  title gender student  year semester  size  score  sex  group\n",
       "0   副教授      女     MBA  2002       秋季   114  3.175    1      0\n",
       "1   副教授      女     MBA  2002       秋季    88  3.523    1      0\n",
       "2   副教授      女     MBA  2003       秋季    83  4.458    1      0\n",
       "3   副教授      女     MBA  2002       秋季    66  3.470    1      0\n",
       "4   副教授      女     MBA  2003       秋季    46  4.630    1      0"
      ]
     },
     "execution_count": 192,
     "metadata": {},
     "output_type": "execute_result"
    }
   ],
   "source": [
    "a.head()"
   ]
  },
  {
   "cell_type": "code",
   "execution_count": 193,
   "metadata": {},
   "outputs": [],
   "source": [
    "lm31 = smf.ols('score ~ title+genders+student+year+semester+group * size', data=a).fit()"
   ]
  },
  {
   "cell_type": "code",
   "execution_count": 194,
   "metadata": {},
   "outputs": [
    {
     "data": {
      "text/html": [
       "<div>\n",
       "<style scoped>\n",
       "    .dataframe tbody tr th:only-of-type {\n",
       "        vertical-align: middle;\n",
       "    }\n",
       "\n",
       "    .dataframe tbody tr th {\n",
       "        vertical-align: top;\n",
       "    }\n",
       "\n",
       "    .dataframe thead th {\n",
       "        text-align: right;\n",
       "    }\n",
       "</style>\n",
       "<table border=\"1\" class=\"dataframe\">\n",
       "  <thead>\n",
       "    <tr style=\"text-align: right;\">\n",
       "      <th></th>\n",
       "      <th>title</th>\n",
       "      <th>gender</th>\n",
       "      <th>student</th>\n",
       "      <th>year</th>\n",
       "      <th>semester</th>\n",
       "      <th>size</th>\n",
       "      <th>group</th>\n",
       "    </tr>\n",
       "  </thead>\n",
       "  <tbody>\n",
       "    <tr>\n",
       "      <th>0</th>\n",
       "      <td>副教授</td>\n",
       "      <td>女</td>\n",
       "      <td>MBA</td>\n",
       "      <td>2002</td>\n",
       "      <td>秋季</td>\n",
       "      <td>114</td>\n",
       "      <td>0</td>\n",
       "    </tr>\n",
       "    <tr>\n",
       "      <th>1</th>\n",
       "      <td>副教授</td>\n",
       "      <td>男</td>\n",
       "      <td>研究生</td>\n",
       "      <td>2004</td>\n",
       "      <td>秋季</td>\n",
       "      <td>15</td>\n",
       "      <td>1</td>\n",
       "    </tr>\n",
       "    <tr>\n",
       "      <th>2</th>\n",
       "      <td>助理教授</td>\n",
       "      <td>女</td>\n",
       "      <td>本科生</td>\n",
       "      <td>2004</td>\n",
       "      <td>秋季</td>\n",
       "      <td>38</td>\n",
       "      <td>0</td>\n",
       "    </tr>\n",
       "    <tr>\n",
       "      <th>3</th>\n",
       "      <td>正教授</td>\n",
       "      <td>男</td>\n",
       "      <td>研究生</td>\n",
       "      <td>2002</td>\n",
       "      <td>春季</td>\n",
       "      <td>40</td>\n",
       "      <td>0</td>\n",
       "    </tr>\n",
       "    <tr>\n",
       "      <th>4</th>\n",
       "      <td>正教授</td>\n",
       "      <td>男</td>\n",
       "      <td>研究生</td>\n",
       "      <td>2003</td>\n",
       "      <td>春季</td>\n",
       "      <td>21</td>\n",
       "      <td>0</td>\n",
       "    </tr>\n",
       "  </tbody>\n",
       "</table>\n",
       "</div>"
      ],
      "text/plain": [
       "  title gender student  year semester  size  group\n",
       "0   副教授      女     MBA  2002       秋季   114      0\n",
       "1   副教授      男     研究生  2004       秋季    15      1\n",
       "2  助理教授      女     本科生  2004       秋季    38      0\n",
       "3   正教授      男     研究生  2002       春季    40      0\n",
       "4   正教授      男     研究生  2003       春季    21      0"
      ]
     },
     "execution_count": 194,
     "metadata": {},
     "output_type": "execute_result"
    }
   ],
   "source": [
    "a0 = pd.read_csv('new.csv', encoding = 'gb18030', dtype = {'year' : str})\n",
    "a0['group'] = 1*(a0['size']<=20)\n",
    "a0"
   ]
  },
  {
   "cell_type": "code",
   "execution_count": 195,
   "metadata": {},
   "outputs": [
    {
     "data": {
      "text/html": [
       "<div>\n",
       "<style scoped>\n",
       "    .dataframe tbody tr th:only-of-type {\n",
       "        vertical-align: middle;\n",
       "    }\n",
       "\n",
       "    .dataframe tbody tr th {\n",
       "        vertical-align: top;\n",
       "    }\n",
       "\n",
       "    .dataframe thead th {\n",
       "        text-align: right;\n",
       "    }\n",
       "</style>\n",
       "<table border=\"1\" class=\"dataframe\">\n",
       "  <thead>\n",
       "    <tr style=\"text-align: right;\">\n",
       "      <th></th>\n",
       "      <th>title</th>\n",
       "      <th>gender</th>\n",
       "      <th>student</th>\n",
       "      <th>year</th>\n",
       "      <th>semester</th>\n",
       "      <th>size</th>\n",
       "      <th>group</th>\n",
       "      <th>score_hat</th>\n",
       "    </tr>\n",
       "  </thead>\n",
       "  <tbody>\n",
       "    <tr>\n",
       "      <th>0</th>\n",
       "      <td>副教授</td>\n",
       "      <td>女</td>\n",
       "      <td>MBA</td>\n",
       "      <td>2002</td>\n",
       "      <td>秋季</td>\n",
       "      <td>114</td>\n",
       "      <td>0</td>\n",
       "      <td>4.002468</td>\n",
       "    </tr>\n",
       "    <tr>\n",
       "      <th>1</th>\n",
       "      <td>副教授</td>\n",
       "      <td>男</td>\n",
       "      <td>研究生</td>\n",
       "      <td>2004</td>\n",
       "      <td>秋季</td>\n",
       "      <td>15</td>\n",
       "      <td>1</td>\n",
       "      <td>4.482488</td>\n",
       "    </tr>\n",
       "    <tr>\n",
       "      <th>2</th>\n",
       "      <td>助理教授</td>\n",
       "      <td>女</td>\n",
       "      <td>本科生</td>\n",
       "      <td>2004</td>\n",
       "      <td>秋季</td>\n",
       "      <td>38</td>\n",
       "      <td>0</td>\n",
       "      <td>4.185510</td>\n",
       "    </tr>\n",
       "    <tr>\n",
       "      <th>3</th>\n",
       "      <td>正教授</td>\n",
       "      <td>男</td>\n",
       "      <td>研究生</td>\n",
       "      <td>2002</td>\n",
       "      <td>春季</td>\n",
       "      <td>40</td>\n",
       "      <td>0</td>\n",
       "      <td>4.362787</td>\n",
       "    </tr>\n",
       "    <tr>\n",
       "      <th>4</th>\n",
       "      <td>正教授</td>\n",
       "      <td>男</td>\n",
       "      <td>研究生</td>\n",
       "      <td>2003</td>\n",
       "      <td>春季</td>\n",
       "      <td>21</td>\n",
       "      <td>0</td>\n",
       "      <td>4.495394</td>\n",
       "    </tr>\n",
       "  </tbody>\n",
       "</table>\n",
       "</div>"
      ],
      "text/plain": [
       "  title gender student  year semester  size  group  score_hat\n",
       "0   副教授      女     MBA  2002       秋季   114      0   4.002468\n",
       "1   副教授      男     研究生  2004       秋季    15      1   4.482488\n",
       "2  助理教授      女     本科生  2004       秋季    38      0   4.185510\n",
       "3   正教授      男     研究生  2002       春季    40      0   4.362787\n",
       "4   正教授      男     研究生  2003       春季    21      0   4.495394"
      ]
     },
     "execution_count": 195,
     "metadata": {},
     "output_type": "execute_result"
    }
   ],
   "source": [
    "a0['score_hat'] = lm32.predict(a0)\n",
    "a0"
   ]
  },
  {
   "cell_type": "markdown",
   "metadata": {},
   "source": [
    "# 更科学的绩效评估"
   ]
  },
  {
   "cell_type": "code",
   "execution_count": 196,
   "metadata": {
    "scrolled": true
   },
   "outputs": [
    {
     "data": {
      "text/html": [
       "<table class=\"simpletable\">\n",
       "<tr>\n",
       "        <td>Model:</td>               <td>OLS</td>         <td>Adj. R-squared:</td>     <td>0.183</td> \n",
       "</tr>\n",
       "<tr>\n",
       "  <td>Dependent Variable:</td>       <td>score</td>             <td>AIC:</td>         <td>402.0690</td>\n",
       "</tr>\n",
       "<tr>\n",
       "         <td>Date:</td>        <td>2019-04-03 16:53</td>        <td>BIC:</td>         <td>440.3584</td>\n",
       "</tr>\n",
       "<tr>\n",
       "   <td>No. Observations:</td>         <td>340</td>         <td>Log-Likelihood:</td>    <td>-191.03</td>\n",
       "</tr>\n",
       "<tr>\n",
       "       <td>Df Model:</td>              <td>9</td>           <td>F-statistic:</td>       <td>9.440</td> \n",
       "</tr>\n",
       "<tr>\n",
       "     <td>Df Residuals:</td>           <td>330</td>       <td>Prob (F-statistic):</td> <td>8.42e-13</td>\n",
       "</tr>\n",
       "<tr>\n",
       "      <td>R-squared:</td>            <td>0.205</td>            <td>Scale:</td>         <td>0.18558</td>\n",
       "</tr>\n",
       "</table>\n",
       "<table class=\"simpletable\">\n",
       "<tr>\n",
       "         <td></td>         <th>Coef.</th>  <th>Std.Err.</th>    <th>t</th>     <th>P>|t|</th> <th>[0.025</th>  <th>0.975]</th> \n",
       "</tr>\n",
       "<tr>\n",
       "  <th>Intercept</th>      <td>3.9161</td>   <td>0.0826</td>  <td>47.3978</td> <td>0.0000</td> <td>3.7536</td>  <td>4.0786</td> \n",
       "</tr>\n",
       "<tr>\n",
       "  <th>title[T.助理教授]</th>  <td>-0.0962</td>  <td>0.0695</td>  <td>-1.3850</td> <td>0.1670</td> <td>-0.2328</td> <td>0.0404</td> \n",
       "</tr>\n",
       "<tr>\n",
       "  <th>title[T.正教授]</th>   <td>0.1748</td>   <td>0.0525</td>  <td>3.3313</td>  <td>0.0010</td> <td>0.0716</td>  <td>0.2781</td> \n",
       "</tr>\n",
       "<tr>\n",
       "  <th>student[T.本科生]</th> <td>0.0954</td>   <td>0.0671</td>  <td>1.4204</td>  <td>0.1564</td> <td>-0.0367</td> <td>0.2274</td> \n",
       "</tr>\n",
       "<tr>\n",
       "  <th>student[T.研究生]</th> <td>0.2416</td>   <td>0.0578</td>  <td>4.1802</td>  <td>0.0000</td> <td>0.1279</td>  <td>0.3552</td> \n",
       "</tr>\n",
       "<tr>\n",
       "  <th>year[T.2003]</th>   <td>0.1470</td>   <td>0.0590</td>  <td>2.4927</td>  <td>0.0132</td> <td>0.0310</td>  <td>0.2630</td> \n",
       "</tr>\n",
       "<tr>\n",
       "  <th>year[T.2004]</th>   <td>0.2415</td>   <td>0.0567</td>  <td>4.2558</td>  <td>0.0000</td> <td>0.1299</td>  <td>0.3531</td> \n",
       "</tr>\n",
       "<tr>\n",
       "  <th>group</th>          <td>0.5962</td>   <td>0.1603</td>  <td>3.7198</td>  <td>0.0002</td> <td>0.2809</td>  <td>0.9115</td> \n",
       "</tr>\n",
       "<tr>\n",
       "  <th>size</th>           <td>0.0008</td>   <td>0.0011</td>  <td>0.6833</td>  <td>0.4949</td> <td>-0.0014</td> <td>0.0029</td> \n",
       "</tr>\n",
       "<tr>\n",
       "  <th>group:size</th>     <td>-0.0349</td>  <td>0.0107</td>  <td>-3.2793</td> <td>0.0012</td> <td>-0.0559</td> <td>-0.0140</td>\n",
       "</tr>\n",
       "</table>\n",
       "<table class=\"simpletable\">\n",
       "<tr>\n",
       "     <td>Omnibus:</td>    <td>41.313</td>  <td>Durbin-Watson:</td>    <td>2.141</td>\n",
       "</tr>\n",
       "<tr>\n",
       "  <td>Prob(Omnibus):</td>  <td>0.000</td> <td>Jarque-Bera (JB):</td> <td>53.315</td>\n",
       "</tr>\n",
       "<tr>\n",
       "       <td>Skew:</td>     <td>-0.886</td>     <td>Prob(JB):</td>      <td>0.000</td>\n",
       "</tr>\n",
       "<tr>\n",
       "     <td>Kurtosis:</td>    <td>3.788</td>  <td>Condition No.:</td>     <td>338</td> \n",
       "</tr>\n",
       "</table>"
      ],
      "text/plain": [
       "<class 'statsmodels.iolib.summary2.Summary'>\n",
       "\"\"\"\n",
       "                 Results: Ordinary least squares\n",
       "=================================================================\n",
       "Model:              OLS              Adj. R-squared:     0.183   \n",
       "Dependent Variable: score            AIC:                402.0690\n",
       "Date:               2019-04-03 16:53 BIC:                440.3584\n",
       "No. Observations:   340              Log-Likelihood:     -191.03 \n",
       "Df Model:           9                F-statistic:        9.440   \n",
       "Df Residuals:       330              Prob (F-statistic): 8.42e-13\n",
       "R-squared:          0.205            Scale:              0.18558 \n",
       "-----------------------------------------------------------------\n",
       "                   Coef.  Std.Err.    t    P>|t|   [0.025  0.975]\n",
       "-----------------------------------------------------------------\n",
       "Intercept          3.9161   0.0826 47.3978 0.0000  3.7536  4.0786\n",
       "title[T.助理教授]     -0.0962   0.0695 -1.3850 0.1670 -0.2328  0.0404\n",
       "title[T.正教授]       0.1748   0.0525  3.3313 0.0010  0.0716  0.2781\n",
       "student[T.本科生]     0.0954   0.0671  1.4204 0.1564 -0.0367  0.2274\n",
       "student[T.研究生]     0.2416   0.0578  4.1802 0.0000  0.1279  0.3552\n",
       "year[T.2003]       0.1470   0.0590  2.4927 0.0132  0.0310  0.2630\n",
       "year[T.2004]       0.2415   0.0567  4.2558 0.0000  0.1299  0.3531\n",
       "group              0.5962   0.1603  3.7198 0.0002  0.2809  0.9115\n",
       "size               0.0008   0.0011  0.6833 0.4949 -0.0014  0.0029\n",
       "group:size        -0.0349   0.0107 -3.2793 0.0012 -0.0559 -0.0140\n",
       "-----------------------------------------------------------------\n",
       "Omnibus:              41.313       Durbin-Watson:          2.141 \n",
       "Prob(Omnibus):        0.000        Jarque-Bera (JB):       53.315\n",
       "Skew:                 -0.886       Prob(JB):               0.000 \n",
       "Kurtosis:             3.788        Condition No.:          338   \n",
       "=================================================================\n",
       "\n",
       "\"\"\""
      ]
     },
     "execution_count": 196,
     "metadata": {},
     "output_type": "execute_result"
    }
   ],
   "source": [
    "lm32.summary2()"
   ]
  },
  {
   "cell_type": "code",
   "execution_count": 197,
   "metadata": {},
   "outputs": [
    {
     "data": {
      "text/html": [
       "<div>\n",
       "<style scoped>\n",
       "    .dataframe tbody tr th:only-of-type {\n",
       "        vertical-align: middle;\n",
       "    }\n",
       "\n",
       "    .dataframe tbody tr th {\n",
       "        vertical-align: top;\n",
       "    }\n",
       "\n",
       "    .dataframe thead th {\n",
       "        text-align: right;\n",
       "    }\n",
       "</style>\n",
       "<table border=\"1\" class=\"dataframe\">\n",
       "  <thead>\n",
       "    <tr style=\"text-align: right;\">\n",
       "      <th></th>\n",
       "      <th>title</th>\n",
       "      <th>gender</th>\n",
       "      <th>student</th>\n",
       "      <th>year</th>\n",
       "      <th>semester</th>\n",
       "      <th>size</th>\n",
       "      <th>group</th>\n",
       "      <th>score</th>\n",
       "      <th>adj_score</th>\n",
       "    </tr>\n",
       "  </thead>\n",
       "  <tbody>\n",
       "    <tr>\n",
       "      <th>0</th>\n",
       "      <td>副教授</td>\n",
       "      <td>女</td>\n",
       "      <td>MBA</td>\n",
       "      <td>2002</td>\n",
       "      <td>秋季</td>\n",
       "      <td>114</td>\n",
       "      <td>0</td>\n",
       "      <td>3.175</td>\n",
       "      <td>-0.827468</td>\n",
       "    </tr>\n",
       "    <tr>\n",
       "      <th>1</th>\n",
       "      <td>副教授</td>\n",
       "      <td>女</td>\n",
       "      <td>MBA</td>\n",
       "      <td>2002</td>\n",
       "      <td>秋季</td>\n",
       "      <td>88</td>\n",
       "      <td>0</td>\n",
       "      <td>3.523</td>\n",
       "      <td>-0.459766</td>\n",
       "    </tr>\n",
       "    <tr>\n",
       "      <th>2</th>\n",
       "      <td>副教授</td>\n",
       "      <td>女</td>\n",
       "      <td>MBA</td>\n",
       "      <td>2003</td>\n",
       "      <td>秋季</td>\n",
       "      <td>83</td>\n",
       "      <td>0</td>\n",
       "      <td>4.458</td>\n",
       "      <td>0.332018</td>\n",
       "    </tr>\n",
       "    <tr>\n",
       "      <th>3</th>\n",
       "      <td>副教授</td>\n",
       "      <td>女</td>\n",
       "      <td>MBA</td>\n",
       "      <td>2002</td>\n",
       "      <td>秋季</td>\n",
       "      <td>66</td>\n",
       "      <td>0</td>\n",
       "      <td>3.470</td>\n",
       "      <td>-0.496095</td>\n",
       "    </tr>\n",
       "    <tr>\n",
       "      <th>4</th>\n",
       "      <td>副教授</td>\n",
       "      <td>女</td>\n",
       "      <td>MBA</td>\n",
       "      <td>2003</td>\n",
       "      <td>秋季</td>\n",
       "      <td>46</td>\n",
       "      <td>0</td>\n",
       "      <td>4.630</td>\n",
       "      <td>0.532056</td>\n",
       "    </tr>\n",
       "    <tr>\n",
       "      <th>5</th>\n",
       "      <td>副教授</td>\n",
       "      <td>女</td>\n",
       "      <td>MBA</td>\n",
       "      <td>2004</td>\n",
       "      <td>秋季</td>\n",
       "      <td>45</td>\n",
       "      <td>0</td>\n",
       "      <td>4.511</td>\n",
       "      <td>0.319334</td>\n",
       "    </tr>\n",
       "    <tr>\n",
       "      <th>6</th>\n",
       "      <td>副教授</td>\n",
       "      <td>女</td>\n",
       "      <td>MBA</td>\n",
       "      <td>2002</td>\n",
       "      <td>秋季</td>\n",
       "      <td>38</td>\n",
       "      <td>0</td>\n",
       "      <td>3.184</td>\n",
       "      <td>-0.760877</td>\n",
       "    </tr>\n",
       "    <tr>\n",
       "      <th>7</th>\n",
       "      <td>副教授</td>\n",
       "      <td>女</td>\n",
       "      <td>MBA</td>\n",
       "      <td>2002</td>\n",
       "      <td>秋季</td>\n",
       "      <td>31</td>\n",
       "      <td>0</td>\n",
       "      <td>3.548</td>\n",
       "      <td>-0.391573</td>\n",
       "    </tr>\n",
       "    <tr>\n",
       "      <th>8</th>\n",
       "      <td>副教授</td>\n",
       "      <td>女</td>\n",
       "      <td>MBA</td>\n",
       "      <td>2003</td>\n",
       "      <td>秋季</td>\n",
       "      <td>30</td>\n",
       "      <td>0</td>\n",
       "      <td>4.433</td>\n",
       "      <td>0.347180</td>\n",
       "    </tr>\n",
       "    <tr>\n",
       "      <th>9</th>\n",
       "      <td>副教授</td>\n",
       "      <td>女</td>\n",
       "      <td>MBA</td>\n",
       "      <td>2004</td>\n",
       "      <td>秋季</td>\n",
       "      <td>30</td>\n",
       "      <td>0</td>\n",
       "      <td>4.300</td>\n",
       "      <td>0.119701</td>\n",
       "    </tr>\n",
       "  </tbody>\n",
       "</table>\n",
       "</div>"
      ],
      "text/plain": [
       "  title gender student  year semester  size  group  score  adj_score\n",
       "0   副教授      女     MBA  2002       秋季   114      0  3.175  -0.827468\n",
       "1   副教授      女     MBA  2002       秋季    88      0  3.523  -0.459766\n",
       "2   副教授      女     MBA  2003       秋季    83      0  4.458   0.332018\n",
       "3   副教授      女     MBA  2002       秋季    66      0  3.470  -0.496095\n",
       "4   副教授      女     MBA  2003       秋季    46      0  4.630   0.532056\n",
       "5   副教授      女     MBA  2004       秋季    45      0  4.511   0.319334\n",
       "6   副教授      女     MBA  2002       秋季    38      0  3.184  -0.760877\n",
       "7   副教授      女     MBA  2002       秋季    31      0  3.548  -0.391573\n",
       "8   副教授      女     MBA  2003       秋季    30      0  4.433   0.347180\n",
       "9   副教授      女     MBA  2004       秋季    30      0  4.300   0.119701"
      ]
     },
     "execution_count": 197,
     "metadata": {},
     "output_type": "execute_result"
    }
   ],
   "source": [
    "a['adj_score'] = lm32.resid\n",
    "a.loc[:9,['title','gender','student','year','semester','size','group','score','adj_score']]"
   ]
  }
 ],
 "metadata": {
  "kernelspec": {
   "display_name": "Python 3",
   "language": "python",
   "name": "python3"
  },
  "language_info": {
   "codemirror_mode": {
    "name": "ipython",
    "version": 3
   },
   "file_extension": ".py",
   "mimetype": "text/x-python",
   "name": "python",
   "nbconvert_exporter": "python",
   "pygments_lexer": "ipython3",
   "version": "3.7.1"
  },
  "toc": {
   "base_numbering": 1,
   "nav_menu": {},
   "number_sections": true,
   "sideBar": true,
   "skip_h1_title": false,
   "title_cell": "Table of Contents",
   "title_sidebar": "Contents",
   "toc_cell": false,
   "toc_position": {
    "height": "calc(100% - 180px)",
    "left": "10px",
    "top": "150px",
    "width": "303.542px"
   },
   "toc_section_display": true,
   "toc_window_display": true
  },
  "varInspector": {
   "cols": {
    "lenName": 16,
    "lenType": 16,
    "lenVar": 40
   },
   "kernels_config": {
    "python": {
     "delete_cmd_postfix": "",
     "delete_cmd_prefix": "del ",
     "library": "var_list.py",
     "varRefreshCmd": "print(var_dic_list())"
    },
    "r": {
     "delete_cmd_postfix": ") ",
     "delete_cmd_prefix": "rm(",
     "library": "var_list.r",
     "varRefreshCmd": "cat(var_dic_list()) "
    }
   },
   "types_to_exclude": [
    "module",
    "function",
    "builtin_function_or_method",
    "instance",
    "_Feature"
   ],
   "window_display": false
  }
 },
 "nbformat": 4,
 "nbformat_minor": 2
}
